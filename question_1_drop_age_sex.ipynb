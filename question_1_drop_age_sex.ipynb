{
 "cells": [
  {
   "cell_type": "code",
   "execution_count": 1,
   "metadata": {},
   "outputs": [],
   "source": [
    "import pandas as pd\n",
    "import numpy as np\n",
    "from collections import Counter\n",
    "from sklearn.model_selection import train_test_split\n",
    "from sklearn import preprocessing\n",
    "from math import sqrt\n",
    "from sklearn.metrics import mean_squared_error\n",
    "from sklearn import linear_model\n",
    "# from sklearn import tree"
   ]
  },
  {
   "cell_type": "code",
   "execution_count": 2,
   "metadata": {},
   "outputs": [],
   "source": [
    "#data processing\n",
    "df = pd.read_csv('insurance.csv')\n",
    "df = df.replace([\"male\", \"female\"], [0, 1])\n",
    "df = df.replace([\"yes\", \"no\"], [1, 0])\n",
    "df = df.replace([\"southeast\", \"southwest\", \"northeast\", \"northwest\"], [0, 1, 2, 3])\n",
    "#dropping age and sex feature\n",
    "X = df.drop([\"charges\",\"age\",\"sex\"], axis = 1)\n",
    "Y = df[\"charges\"]\n",
    "twoD_Y = np.array(Y)\n",
    "twoD_X = np.array(X)"
   ]
  },
  {
   "cell_type": "markdown",
   "metadata": {},
   "source": [
    "# 1.StratifiedKFold cross-validation"
   ]
  },
  {
   "cell_type": "code",
   "execution_count": 3,
   "metadata": {},
   "outputs": [
    {
     "name": "stdout",
     "output_type": "stream",
     "text": [
      "[[25.175  2.     0.     2.   ]\n",
      " [30.02   0.     0.     3.   ]\n",
      " [26.885  0.     1.     3.   ]\n",
      " ...\n",
      " [21.4    1.     0.     1.   ]\n",
      " [29.64   4.     0.     2.   ]\n",
      " [32.56   0.     0.     0.   ]]\n"
     ]
    }
   ],
   "source": [
    "#split the dataset into train and test\n",
    "X_train, X_test, Y_train, Y_test = train_test_split(twoD_X, twoD_Y, test_size=0.33, random_state=42)\n",
    "print(X_test)"
   ]
  },
  {
   "cell_type": "code",
   "execution_count": 4,
   "metadata": {},
   "outputs": [
    {
     "name": "stdout",
     "output_type": "stream",
     "text": [
      "Counter({1: 594, 2: 153, 3: 68, 4: 60, 0: 15, 5: 5, 6: 1})\n",
      "896\n"
     ]
    }
   ],
   "source": [
    "#label to charge dataset from 0 to 6\n",
    "scaled_Y = (preprocessing.scale(Y_train))\n",
    "new_matrix = []\n",
    "for i in range(len(scaled_Y)):\n",
    "    if scaled_Y[i] <= (-1):\n",
    "        scaled_Y[i] = 0\n",
    "        new_matrix.append(0)\n",
    "    elif scaled_Y[i] > (-1) and scaled_Y[i] <= 0:\n",
    "        scaled_Y[i] = 1\n",
    "        new_matrix.append(1)\n",
    "    elif scaled_Y[i] > (0) and scaled_Y[i] <= 1:\n",
    "        scaled_Y[i] = 2\n",
    "        new_matrix.append(2)\n",
    "    elif scaled_Y[i] > (1) and scaled_Y[i] <= 2:\n",
    "        scaled_Y[i] = 3\n",
    "        new_matrix.append(3)\n",
    "    elif scaled_Y[i] > 2 and scaled_Y[i] <= 3:\n",
    "        scaled_Y[i] = 4\n",
    "        new_matrix.append(4)\n",
    "    elif scaled_Y[i] > 3 and scaled_Y[i] <= 4:\n",
    "        scaled_Y[i] = 5\n",
    "        new_matrix.append(5)\n",
    "    elif scaled_Y[i] > 4:\n",
    "        scaled_Y[i] = 6\n",
    "        new_matrix.append(6)\n",
    "print(Counter(new_matrix))\n",
    "new_matrix = np.array(new_matrix).reshape(-1, 1)\n",
    "print(len(new_matrix))"
   ]
  },
  {
   "cell_type": "code",
   "execution_count": 5,
   "metadata": {},
   "outputs": [],
   "source": [
    "#now use train data for cross_validation\n",
    "from sklearn.model_selection import StratifiedKFold\n",
    "skf = StratifiedKFold(n_splits=10, shuffle=False, random_state=42)"
   ]
  },
  {
   "cell_type": "code",
   "execution_count": 6,
   "metadata": {},
   "outputs": [
    {
     "name": "stdout",
     "output_type": "stream",
     "text": [
      "Mean squared error: 6904.60\n"
     ]
    },
    {
     "name": "stderr",
     "output_type": "stream",
     "text": [
      "/home/rish/.local/lib/python3.6/site-packages/sklearn/model_selection/_split.py:605: Warning: The least populated class in y has only 1 members, which is too few. The minimum number of members in any class cannot be less than n_splits=10.\n",
      "  % (min_groups, self.n_splits)), Warning)\n"
     ]
    }
   ],
   "source": [
    "#Linear regression 10th iteration\n",
    "reg_Linear = linear_model.LinearRegression()\n",
    "i = 0\n",
    "for train_index, test_index in skf.split(X_train, new_matrix):\n",
    "    i = i + 1\n",
    "    if i == 10:\n",
    "        reg_Linear.fit(X_train[train_index], Y_train[train_index])\n",
    "        Y_pred = reg_Linear.predict(X_train[test_index])\n",
    "        # The root mean squared error\n",
    "        print(\"Mean squared error: %.2f\"% sqrt(mean_squared_error(Y_train[test_index], Y_pred)))\n",
    "        break\n"
   ]
  },
  {
   "cell_type": "code",
   "execution_count": 7,
   "metadata": {},
   "outputs": [
    {
     "name": "stdout",
     "output_type": "stream",
     "text": [
      "Mean squared error: 6904.83\n"
     ]
    },
    {
     "name": "stderr",
     "output_type": "stream",
     "text": [
      "/home/rish/.local/lib/python3.6/site-packages/sklearn/model_selection/_split.py:605: Warning: The least populated class in y has only 1 members, which is too few. The minimum number of members in any class cannot be less than n_splits=10.\n",
      "  % (min_groups, self.n_splits)), Warning)\n"
     ]
    }
   ],
   "source": [
    "#Using ridge regression 10th iteration\n",
    "from sklearn.linear_model import Ridge\n",
    "reg_ridge = Ridge(alpha=1.0)\n",
    "i = 0\n",
    "for train_index, test_index in skf.split(X_train, new_matrix):\n",
    "    i = i + 1\n",
    "    if i == 10:\n",
    "        reg_ridge.fit(X_train[train_index], Y_train[train_index])\n",
    "        Y_pred = reg_ridge.predict(X_train[test_index])\n",
    "        # The root mean squared error\n",
    "        print(\"Mean squared error: %.2f\"% sqrt(mean_squared_error(Y_train[test_index], Y_pred)))\n",
    "        break"
   ]
  },
  {
   "cell_type": "code",
   "execution_count": 8,
   "metadata": {},
   "outputs": [
    {
     "name": "stdout",
     "output_type": "stream",
     "text": [
      "Mean squared error: 6904.62\n"
     ]
    },
    {
     "name": "stderr",
     "output_type": "stream",
     "text": [
      "/home/rish/.local/lib/python3.6/site-packages/sklearn/model_selection/_split.py:605: Warning: The least populated class in y has only 1 members, which is too few. The minimum number of members in any class cannot be less than n_splits=10.\n",
      "  % (min_groups, self.n_splits)), Warning)\n"
     ]
    }
   ],
   "source": [
    "#Using Bayesian Ridge Regression 10th iteration\n",
    "reg_bay = linear_model.BayesianRidge()\n",
    "i = 0\n",
    "for train_index, test_index in skf.split(X_train, new_matrix):\n",
    "    i = i + 1\n",
    "    if i == 10:\n",
    "        reg_bay.fit(X_train[train_index], Y_train[train_index])\n",
    "        Y_pred = reg_bay.predict(X_train[test_index])\n",
    "        #         # The mean squared error\n",
    "        print(\"Mean squared error: %.2f\"% sqrt(mean_squared_error(Y_train[test_index], Y_pred)))\n",
    "        break"
   ]
  },
  {
   "cell_type": "code",
   "execution_count": 9,
   "metadata": {},
   "outputs": [],
   "source": [
    "#predict using ....."
   ]
  },
  {
   "cell_type": "code",
   "execution_count": 10,
   "metadata": {},
   "outputs": [
    {
     "name": "stdout",
     "output_type": "stream",
     "text": [
      "Mean squared error: 6904.60\n"
     ]
    },
    {
     "name": "stderr",
     "output_type": "stream",
     "text": [
      "/home/rish/.local/lib/python3.6/site-packages/sklearn/model_selection/_split.py:605: Warning: The least populated class in y has only 1 members, which is too few. The minimum number of members in any class cannot be less than n_splits=10.\n",
      "  % (min_groups, self.n_splits)), Warning)\n"
     ]
    }
   ],
   "source": [
    "#Lasso regression 10th iteration\n",
    "reg_lasso = linear_model.Lasso(alpha = 0.1)\n",
    "i = 0\n",
    "for train_index, test_index in skf.split(X_train, new_matrix):\n",
    "    i = i + 1\n",
    "    if i == 10:\n",
    "        reg_lasso.fit(X_train[train_index], Y_train[train_index])\n",
    "        Y_pred = reg_lasso.predict(X_train[test_index])\n",
    "        #         # The mean squared error\n",
    "        print(\"Mean squared error: %.2f\"% sqrt(mean_squared_error(Y_train[test_index], Y_pred)))\n",
    "        break"
   ]
  },
  {
   "cell_type": "code",
   "execution_count": 11,
   "metadata": {},
   "outputs": [],
   "source": [
    "#predict using model"
   ]
  },
  {
   "cell_type": "code",
   "execution_count": 12,
   "metadata": {},
   "outputs": [
    {
     "name": "stdout",
     "output_type": "stream",
     "text": [
      "Mean squared error: 6951.10\n"
     ]
    },
    {
     "name": "stderr",
     "output_type": "stream",
     "text": [
      "/home/rish/.local/lib/python3.6/site-packages/sklearn/model_selection/_split.py:605: Warning: The least populated class in y has only 1 members, which is too few. The minimum number of members in any class cannot be less than n_splits=10.\n",
      "  % (min_groups, self.n_splits)), Warning)\n"
     ]
    }
   ],
   "source": [
    "#Lasso Least Angle Regression 10th iteration\n",
    "reg_Lasso_LAR = linear_model.LassoLars(alpha=10)\n",
    "i = 0\n",
    "for train_index, test_index in skf.split(X_train, new_matrix):\n",
    "    i = i + 1\n",
    "    if i == 10:\n",
    "        reg_Lasso_LAR.fit(X_train[train_index], Y_train[train_index])\n",
    "        Y_pred = reg_Lasso_LAR.predict(X_train[test_index])\n",
    "        #         # The mean squared error\n",
    "        print(\"Mean squared error: %.2f\"% sqrt(mean_squared_error(Y_train[test_index], Y_pred)))\n",
    "        break"
   ]
  },
  {
   "cell_type": "code",
   "execution_count": null,
   "metadata": {},
   "outputs": [],
   "source": []
  },
  {
   "cell_type": "code",
   "execution_count": 13,
   "metadata": {},
   "outputs": [
    {
     "name": "stdout",
     "output_type": "stream",
     "text": [
      "Mean squared error: 5403.60\n"
     ]
    },
    {
     "name": "stderr",
     "output_type": "stream",
     "text": [
      "/home/rish/.local/lib/python3.6/site-packages/sklearn/ensemble/weight_boosting.py:29: DeprecationWarning: numpy.core.umath_tests is an internal NumPy module and should not be imported. It will be removed in a future NumPy release.\n",
      "  from numpy.core.umath_tests import inner1d\n",
      "/home/rish/.local/lib/python3.6/site-packages/sklearn/model_selection/_split.py:605: Warning: The least populated class in y has only 1 members, which is too few. The minimum number of members in any class cannot be less than n_splits=10.\n",
      "  % (min_groups, self.n_splits)), Warning)\n"
     ]
    }
   ],
   "source": [
    "#Random forest regressor 3rd\n",
    "from sklearn.ensemble import RandomForestRegressor\n",
    "reg_RF = RandomForestRegressor(max_depth=2, random_state=0)\n",
    "i = 0\n",
    "for train_index, test_index in skf.split(X_train, new_matrix):\n",
    "    i = i + 1\n",
    "    if i== 3:\n",
    "        reg_RF.fit(X_train[train_index], Y_train[train_index])\n",
    "        Y_pred = reg_RF.predict(X_train[test_index])\n",
    "        #         # The mean squared error\n",
    "        print(\"Mean squared error: %.2f\"% sqrt(mean_squared_error(Y_train[test_index], Y_pred)))\n",
    "        break\n"
   ]
  },
  {
   "cell_type": "code",
   "execution_count": 14,
   "metadata": {},
   "outputs": [
    {
     "name": "stdout",
     "output_type": "stream",
     "text": [
      "Mean squared error: 8730.36\n"
     ]
    },
    {
     "name": "stderr",
     "output_type": "stream",
     "text": [
      "/home/rish/.local/lib/python3.6/site-packages/sklearn/model_selection/_split.py:605: Warning: The least populated class in y has only 1 members, which is too few. The minimum number of members in any class cannot be less than n_splits=10.\n",
      "  % (min_groups, self.n_splits)), Warning)\n"
     ]
    }
   ],
   "source": [
    "#Decision tree regressor 6th\n",
    "from sklearn import tree\n",
    "i = 0\n",
    "reg_DT = tree.DecisionTreeRegressor()\n",
    "for train_index, test_index in skf.split(X_train, new_matrix):\n",
    "    i = i + 1\n",
    "    if i == 6:\n",
    "        reg_DT.fit(X_train[train_index], Y_train[train_index])\n",
    "        Y_pred = reg_DT.predict(X_train[test_index])\n",
    "        #         # The mean squared error\n",
    "        print(\"Mean squared error: %.2f\"% sqrt(mean_squared_error(Y_train[test_index], Y_pred)))\n",
    "        break\n"
   ]
  },
  {
   "cell_type": "code",
   "execution_count": 15,
   "metadata": {},
   "outputs": [
    {
     "name": "stdout",
     "output_type": "stream",
     "text": [
      "{'DecisionTreeRegressor': 8226.640423248837, 'RandomForestRegressor': 5679.15417778376, 'LassoLars': 6866.710855309099, 'Lasso': 6826.339155338326, 'BayesianRidge': 6828.084987211457, 'Ridge': 6831.123832091635, 'LinearRegression': 6826.322662148859}\n"
     ]
    }
   ],
   "source": [
    "model_vs_err1 = {}\n",
    "model_vs_err1.update({\"DecisionTreeRegressor\" : sqrt(mean_squared_error(Y_test, reg_DT.predict(X_test)))})\n",
    "model_vs_err1.update({\"RandomForestRegressor\" : sqrt(mean_squared_error(Y_test, reg_RF.predict(X_test)))})\n",
    "model_vs_err1.update({\"LassoLars\" : sqrt(mean_squared_error(Y_test, reg_Lasso_LAR.predict(X_test)))})\n",
    "model_vs_err1.update({\"Lasso\" : sqrt(mean_squared_error(Y_test, reg_lasso.predict(X_test)))})\n",
    "model_vs_err1.update({\"BayesianRidge\" : sqrt(mean_squared_error(Y_test, reg_bay.predict(X_test)))})\n",
    "model_vs_err1.update({\"Ridge\" : sqrt(mean_squared_error(Y_test, reg_ridge.predict(X_test)))})\n",
    "model_vs_err1.update({\"LinearRegression\" : sqrt(mean_squared_error(Y_test, reg_Linear.predict(X_test)))})\n",
    "print(model_vs_err1)"
   ]
  },
  {
   "cell_type": "code",
   "execution_count": 16,
   "metadata": {},
   "outputs": [
    {
     "data": {
      "text/plain": [
       "<Figure size 640x480 with 1 Axes>"
      ]
     },
     "metadata": {},
     "output_type": "display_data"
    }
   ],
   "source": [
    "import seaborn as sns\n",
    "import matplotlib.pyplot as plt\n",
    "sns.barplot(x=list(model_vs_err1.keys()), y=list(model_vs_err1.values()))\n",
    "plt.xticks(rotation= 90)\n",
    "plt.xlabel('Models')\n",
    "plt.ylabel('RMSE')\n",
    "plt.title('Models vs RMSE')\n",
    "plt.show()"
   ]
  },
  {
   "cell_type": "markdown",
   "metadata": {},
   "source": [
    "# 2.Bootstrapping"
   ]
  },
  {
   "cell_type": "code",
   "execution_count": 17,
   "metadata": {},
   "outputs": [],
   "source": [
    "#split the dataset into train and test\n",
    "X_train, X_test, Y_train, Y_test = train_test_split(twoD_X, twoD_Y, test_size=0.33, random_state=42)"
   ]
  },
  {
   "cell_type": "code",
   "execution_count": 18,
   "metadata": {},
   "outputs": [],
   "source": [
    "from sklearn.utils import resample\n",
    "X_train_boot=[]\n",
    "Y_train_boot=[]\n",
    "for i in range (1,11):\n",
    "    X_train_boot.append( resample(X_train,replace=True,random_state=i ))\n",
    "    Y_train_boot.append(resample(Y_train,replace=True,random_state=i ))   \n",
    "reg_Linear = linear_model.LinearRegression()"
   ]
  },
  {
   "cell_type": "code",
   "execution_count": 19,
   "metadata": {},
   "outputs": [
    {
     "name": "stdout",
     "output_type": "stream",
     "text": [
      "root Mean squared error: 6861.58\n",
      "root Mean squared error: 6880.50\n",
      "root Mean squared error: 6820.95\n",
      "root Mean squared error: 6808.94\n",
      "root Mean squared error: 6870.69\n",
      "root Mean squared error: 6874.25\n",
      "root Mean squared error: 6842.94\n",
      "root Mean squared error: 6827.31\n",
      "root Mean squared error: 6815.51\n",
      "root Mean squared error: 6827.69\n"
     ]
    },
    {
     "data": {
      "text/plain": [
       "LinearRegression(copy_X=True, fit_intercept=True, n_jobs=1, normalize=False)"
      ]
     },
     "execution_count": 19,
     "metadata": {},
     "output_type": "execute_result"
    }
   ],
   "source": [
    "for i in range (0,10):\n",
    "    reg_Linear.fit(X_train_boot[i], Y_train_boot[i])\n",
    "    Y_pred = reg_Linear.predict(X_test)\n",
    "    # The root mean squared error\n",
    "    print(\"root Mean squared error: %.2f\"% sqrt(mean_squared_error(Y_test, Y_pred))) \n",
    "# since best result is from i=8\n",
    "reg_Linear.fit(X_train_boot[8], Y_train_boot[8])"
   ]
  },
  {
   "cell_type": "code",
   "execution_count": 20,
   "metadata": {},
   "outputs": [
    {
     "name": "stdout",
     "output_type": "stream",
     "text": [
      "Mean squared error: 6867.63\n",
      "Mean squared error: 6889.04\n",
      "Mean squared error: 6825.18\n",
      "Mean squared error: 6808.38\n",
      "Mean squared error: 6878.08\n",
      "Mean squared error: 6880.28\n",
      "Mean squared error: 6847.11\n",
      "Mean squared error: 6831.19\n",
      "Mean squared error: 6816.80\n",
      "Mean squared error: 6832.00\n"
     ]
    },
    {
     "data": {
      "text/plain": [
       "Ridge(alpha=1.0, copy_X=True, fit_intercept=True, max_iter=None,\n",
       "   normalize=False, random_state=None, solver='auto', tol=0.001)"
      ]
     },
     "execution_count": 20,
     "metadata": {},
     "output_type": "execute_result"
    }
   ],
   "source": [
    "#Using ridge regression 10th iteration\n",
    "from sklearn.linear_model import Ridge\n",
    "reg_ridge = Ridge(alpha=1.0)\n",
    "for i in range (0,10):\n",
    "    reg_ridge.fit(X_train_boot[i], Y_train_boot[i])\n",
    "    Y_pred = reg_ridge.predict(X_test)\n",
    "    # The root mean squared error\n",
    "    print(\"Mean squared error: %.2f\"% sqrt(mean_squared_error(Y_test, Y_pred)))\n",
    "# since best result is from i=8\n",
    "reg_ridge.fit(X_train_boot[8], Y_train_boot[8])"
   ]
  },
  {
   "cell_type": "code",
   "execution_count": 21,
   "metadata": {},
   "outputs": [
    {
     "name": "stdout",
     "output_type": "stream",
     "text": [
      "Mean squared error: 6863.81\n",
      "Mean squared error: 6884.18\n",
      "Mean squared error: 6822.38\n",
      "Mean squared error: 6808.68\n",
      "Mean squared error: 6873.90\n",
      "Mean squared error: 6876.65\n",
      "Mean squared error: 6844.42\n",
      "Mean squared error: 6828.68\n",
      "Mean squared error: 6815.88\n",
      "Mean squared error: 6829.23\n"
     ]
    },
    {
     "data": {
      "text/plain": [
       "BayesianRidge(alpha_1=1e-06, alpha_2=1e-06, compute_score=False, copy_X=True,\n",
       "       fit_intercept=True, lambda_1=1e-06, lambda_2=1e-06, n_iter=300,\n",
       "       normalize=False, tol=0.001, verbose=False)"
      ]
     },
     "execution_count": 21,
     "metadata": {},
     "output_type": "execute_result"
    }
   ],
   "source": [
    "#Using Bayesian Ridge Regression 10th iteration\n",
    "reg_bay = linear_model.BayesianRidge()\n",
    "i = 0\n",
    "for i in range (0,10):\n",
    "    reg_bay.fit(X_train_boot[i], Y_train_boot[i])\n",
    "    Y_pred = reg_bay.predict(X_test)\n",
    "    # The root mean squared error\n",
    "    print(\"Mean squared error: %.2f\"% sqrt(mean_squared_error(Y_test, Y_pred)))\n",
    "# since best result is from i=8\n",
    "reg_bay.fit(X_train_boot[8], Y_train_boot[8])"
   ]
  },
  {
   "cell_type": "code",
   "execution_count": 22,
   "metadata": {},
   "outputs": [
    {
     "name": "stdout",
     "output_type": "stream",
     "text": [
      "Mean squared error: 6861.59\n",
      "Mean squared error: 6880.53\n",
      "Mean squared error: 6820.96\n",
      "Mean squared error: 6808.94\n",
      "Mean squared error: 6870.72\n",
      "Mean squared error: 6874.26\n",
      "Mean squared error: 6842.96\n",
      "Mean squared error: 6827.33\n",
      "Mean squared error: 6815.51\n",
      "Mean squared error: 6827.70\n"
     ]
    },
    {
     "data": {
      "text/plain": [
       "Lasso(alpha=0.1, copy_X=True, fit_intercept=True, max_iter=1000,\n",
       "   normalize=False, positive=False, precompute=False, random_state=None,\n",
       "   selection='cyclic', tol=0.0001, warm_start=False)"
      ]
     },
     "execution_count": 22,
     "metadata": {},
     "output_type": "execute_result"
    }
   ],
   "source": [
    "#Lasso regression 10th iteration\n",
    "reg_lasso = linear_model.Lasso(alpha = 0.1)\n",
    "for i in range (0,10):\n",
    "    reg_lasso.fit(X_train_boot[i], Y_train_boot[i])\n",
    "    Y_pred = reg_lasso.predict(X_test)\n",
    "    # The root mean squared error\n",
    "    print(\"Mean squared error: %.2f\"% sqrt(mean_squared_error(Y_test, Y_pred)))\n",
    "# since best result is from i=8\n",
    "reg_lasso.fit(X_train_boot[8], Y_train_boot[8])"
   ]
  },
  {
   "cell_type": "code",
   "execution_count": 23,
   "metadata": {},
   "outputs": [
    {
     "name": "stdout",
     "output_type": "stream",
     "text": [
      "Mean squared error: 6906.92\n",
      "Mean squared error: 6939.77\n",
      "Mean squared error: 6864.48\n",
      "Mean squared error: 6833.73\n",
      "Mean squared error: 6911.35\n",
      "Mean squared error: 6883.72\n",
      "Mean squared error: 6909.64\n",
      "Mean squared error: 6886.24\n",
      "Mean squared error: 6844.41\n",
      "Mean squared error: 6877.26\n"
     ]
    },
    {
     "data": {
      "text/plain": [
       "LassoLars(alpha=10, copy_X=True, eps=2.220446049250313e-16,\n",
       "     fit_intercept=True, fit_path=True, max_iter=500, normalize=True,\n",
       "     positive=False, precompute='auto', verbose=False)"
      ]
     },
     "execution_count": 23,
     "metadata": {},
     "output_type": "execute_result"
    }
   ],
   "source": [
    "#Lasso Least Angle Regression 10th iteration\n",
    "reg_Lasso_LAR = linear_model.LassoLars(alpha=10)\n",
    "for i in range (0,10):\n",
    "    reg_Lasso_LAR.fit(X_train_boot[i], Y_train_boot[i])\n",
    "    Y_pred = reg_Lasso_LAR.predict(X_test)\n",
    "    # The root mean squared error\n",
    "    print(\"Mean squared error: %.2f\"% sqrt(mean_squared_error(Y_test, Y_pred)))\n",
    "# since best result is from i=8\n",
    "reg_Lasso_LAR.fit(X_train_boot[8], Y_train_boot[8])"
   ]
  },
  {
   "cell_type": "code",
   "execution_count": 24,
   "metadata": {},
   "outputs": [
    {
     "name": "stdout",
     "output_type": "stream",
     "text": [
      "Mean squared error: 5713.43\n",
      "Mean squared error: 5741.36\n",
      "Mean squared error: 5740.00\n",
      "Mean squared error: 5746.10\n",
      "Mean squared error: 5734.73\n",
      "Mean squared error: 5732.83\n",
      "Mean squared error: 5759.68\n",
      "Mean squared error: 5779.32\n",
      "Mean squared error: 5703.49\n",
      "Mean squared error: 5740.12\n"
     ]
    },
    {
     "data": {
      "text/plain": [
       "RandomForestRegressor(bootstrap=True, criterion='mse', max_depth=2,\n",
       "           max_features='auto', max_leaf_nodes=None,\n",
       "           min_impurity_decrease=0.0, min_impurity_split=None,\n",
       "           min_samples_leaf=1, min_samples_split=2,\n",
       "           min_weight_fraction_leaf=0.0, n_estimators=10, n_jobs=1,\n",
       "           oob_score=False, random_state=0, verbose=0, warm_start=False)"
      ]
     },
     "execution_count": 24,
     "metadata": {},
     "output_type": "execute_result"
    }
   ],
   "source": [
    "#Random forest regressor 3rd\n",
    "from sklearn.ensemble import RandomForestRegressor\n",
    "reg_RF = RandomForestRegressor(max_depth=2, random_state=0)\n",
    "for i in range (0,10):\n",
    "    reg_RF.fit(X_train_boot[i], Y_train_boot[i])\n",
    "    Y_pred = reg_RF.predict(X_test)\n",
    "    # The root mean squared error\n",
    "    print(\"Mean squared error: %.2f\"% sqrt(mean_squared_error(Y_test, Y_pred)))\n",
    "# since best result is from i=8\n",
    "reg_RF.fit(X_train_boot[1], Y_train_boot[1])"
   ]
  },
  {
   "cell_type": "code",
   "execution_count": 25,
   "metadata": {},
   "outputs": [
    {
     "name": "stdout",
     "output_type": "stream",
     "text": [
      "Mean squared error: 8482.89\n",
      "Mean squared error: 8103.51\n",
      "Mean squared error: 7757.15\n",
      "Mean squared error: 7680.69\n",
      "Mean squared error: 7809.83\n",
      "Mean squared error: 8431.21\n",
      "Mean squared error: 7813.09\n",
      "Mean squared error: 7591.95\n",
      "Mean squared error: 7800.60\n",
      "Mean squared error: 7730.49\n"
     ]
    },
    {
     "data": {
      "text/plain": [
       "DecisionTreeRegressor(criterion='mse', max_depth=None, max_features=None,\n",
       "           max_leaf_nodes=None, min_impurity_decrease=0.0,\n",
       "           min_impurity_split=None, min_samples_leaf=1,\n",
       "           min_samples_split=2, min_weight_fraction_leaf=0.0,\n",
       "           presort=False, random_state=None, splitter='best')"
      ]
     },
     "execution_count": 25,
     "metadata": {},
     "output_type": "execute_result"
    }
   ],
   "source": [
    "#Decision tree regressor 6th\n",
    "from sklearn import tree\n",
    "reg_DT = tree.DecisionTreeRegressor()\n",
    "for i in range (0,10):\n",
    "    reg_DT.fit(X_train_boot[i], Y_train_boot[i])\n",
    "    Y_pred = reg_DT.predict(X_test)\n",
    "    # The root mean squared error\n",
    "    print(\"Mean squared error: %.2f\"% sqrt(mean_squared_error(Y_test, Y_pred)))\n",
    "# since best result is from i=8\n",
    "reg_DT.fit(X_train_boot[6], Y_train_boot[6])"
   ]
  },
  {
   "cell_type": "code",
   "execution_count": 26,
   "metadata": {},
   "outputs": [
    {
     "name": "stdout",
     "output_type": "stream",
     "text": [
      "{'DecisionTreeRegressor': 7821.6379167088735, 'RandomForestRegressor': 5741.360642900337, 'LassoLars': 6844.411824154767, 'Lasso': 6815.513897462834, 'BayesianRidge': 6815.88390669425, 'Ridge': 6816.802410832561, 'LinearRegression': 6815.507844774105}\n"
     ]
    }
   ],
   "source": [
    "model_vs_err2 = {}\n",
    "model_vs_err2.update({\"DecisionTreeRegressor\" : sqrt(mean_squared_error(Y_test, reg_DT.predict(X_test)))})\n",
    "model_vs_err2.update({\"RandomForestRegressor\" : sqrt(mean_squared_error(Y_test, reg_RF.predict(X_test)))})\n",
    "model_vs_err2.update({\"LassoLars\" : sqrt(mean_squared_error(Y_test, reg_Lasso_LAR.predict(X_test)))})\n",
    "model_vs_err2.update({\"Lasso\" : sqrt(mean_squared_error(Y_test, reg_lasso.predict(X_test)))})\n",
    "model_vs_err2.update({\"BayesianRidge\" : sqrt(mean_squared_error(Y_test, reg_bay.predict(X_test)))})\n",
    "model_vs_err2.update({\"Ridge\" : sqrt(mean_squared_error(Y_test, reg_ridge.predict(X_test)))})\n",
    "model_vs_err2.update({\"LinearRegression\" : sqrt(mean_squared_error(Y_test, reg_Linear.predict(X_test)))})\n",
    "print(model_vs_err2)"
   ]
  },
  {
   "cell_type": "code",
   "execution_count": 27,
   "metadata": {},
   "outputs": [
    {
     "data": {
      "image/png": "[encoded data removed]",
      "text/plain": [
       "<Figure size 432x288 with 1 Axes>"
      ]
     },
     "metadata": {},
     "output_type": "display_data"
    }
   ],
   "source": [
    "import seaborn as sns\n",
    "import matplotlib.pyplot as plt\n",
    "sns.barplot(x=list(model_vs_err2.keys()), y=list(model_vs_err2.values()))\n",
    "plt.xticks(rotation= 90)\n",
    "plt.xlabel('Models')\n",
    "plt.ylabel('RMSE')\n",
    "plt.title('Models vs RMSE')\n",
    "plt.show()"
   ]
  },
  {
   "cell_type": "markdown",
   "metadata": {},
   "source": [
    "# 3.Holdout method"
   ]
  },
  {
   "cell_type": "code",
   "execution_count": 28,
   "metadata": {},
   "outputs": [],
   "source": [
    "#split the dataset into train and test\n",
    "X_train, X_test, Y_train, Y_test = train_test_split(twoD_X, twoD_Y, test_size=0.33, random_state=42)"
   ]
  },
  {
   "cell_type": "code",
   "execution_count": 29,
   "metadata": {},
   "outputs": [],
   "source": [
    "X_train_c, X_test_c, Y_train_c, Y_test_c = train_test_split(X_train, Y_train, test_size=0.33, random_state=42)"
   ]
  },
  {
   "cell_type": "code",
   "execution_count": 30,
   "metadata": {},
   "outputs": [
    {
     "name": "stdout",
     "output_type": "stream",
     "text": [
      "Mean squared error: 7205.85\n"
     ]
    }
   ],
   "source": [
    "#Linear regression 10th iteration\n",
    "reg_Linear = linear_model.LinearRegression()\n",
    "reg_Linear.fit(X_train_c, Y_train_c)\n",
    "Y_pred = reg_Linear.predict(X_test_c)\n",
    "# The root mean squared error\n",
    "print(\"Mean squared error: %.2f\"% sqrt(mean_squared_error(Y_test_c, Y_pred)))"
   ]
  },
  {
   "cell_type": "code",
   "execution_count": 31,
   "metadata": {},
   "outputs": [
    {
     "name": "stdout",
     "output_type": "stream",
     "text": [
      "Mean squared error: 7198.00\n"
     ]
    }
   ],
   "source": [
    "#Using ridge regression 10th iteration\n",
    "from sklearn.linear_model import Ridge\n",
    "reg_ridge = Ridge(alpha=1.0)\n",
    "reg_ridge.fit(X_train_c, Y_train_c)\n",
    "Y_pred = reg_ridge.predict(X_test_c)\n",
    "# The root mean squared error\n",
    "print(\"Mean squared error: %.2f\"% sqrt(mean_squared_error(Y_test_c, Y_pred)))\n"
   ]
  },
  {
   "cell_type": "code",
   "execution_count": 32,
   "metadata": {},
   "outputs": [
    {
     "name": "stdout",
     "output_type": "stream",
     "text": [
      "Mean squared error: 7202.86\n"
     ]
    }
   ],
   "source": [
    "#Using Bayesian Ridge Regression 10th iteration\n",
    "reg_bay = linear_model.BayesianRidge()\n",
    "reg_bay.fit(X_train_c, Y_train_c)\n",
    "Y_pred = reg_bay.predict(X_test_c)\n",
    "#         # The mean squared error\n",
    "print(\"Mean squared error: %.2f\"% sqrt(mean_squared_error(Y_test_c, Y_pred)))\n"
   ]
  },
  {
   "cell_type": "code",
   "execution_count": 33,
   "metadata": {},
   "outputs": [
    {
     "name": "stdout",
     "output_type": "stream",
     "text": [
      "Mean squared error: 7205.83\n"
     ]
    }
   ],
   "source": [
    "#Lasso regression 10th iteration\n",
    "reg_lasso = linear_model.Lasso(alpha = 0.1)\n",
    "reg_lasso.fit(X_train_c, Y_train_c)\n",
    "Y_pred = reg_lasso.predict(X_test_c)\n",
    "# The mean squared error\n",
    "print(\"Mean squared error: %.2f\"% sqrt(mean_squared_error(Y_test_c, Y_pred)))\n"
   ]
  },
  {
   "cell_type": "code",
   "execution_count": 34,
   "metadata": {},
   "outputs": [
    {
     "name": "stdout",
     "output_type": "stream",
     "text": [
      "Mean squared error: 7178.00\n"
     ]
    }
   ],
   "source": [
    "#Lasso Least Angle Regression 10th iteration\n",
    "reg_Lasso_LAR = linear_model.LassoLars(alpha=10)\n",
    "reg_Lasso_LAR.fit(X_train_c, Y_train_c)\n",
    "Y_pred = reg_Lasso_LAR.predict(X_test_c)\n",
    "#         # The mean squared error\n",
    "print(\"Mean squared error: %.2f\"% sqrt(mean_squared_error(Y_test_c, Y_pred)))"
   ]
  },
  {
   "cell_type": "code",
   "execution_count": 35,
   "metadata": {},
   "outputs": [
    {
     "name": "stdout",
     "output_type": "stream",
     "text": [
      "Mean squared error: 5928.62\n"
     ]
    }
   ],
   "source": [
    "#Random forest regressor 3rd\n",
    "from sklearn.ensemble import RandomForestRegressor\n",
    "reg_RF = RandomForestRegressor(max_depth=2, random_state=0)\n",
    "reg_RF.fit(X_train_c, Y_train_c)\n",
    "Y_pred = reg_RF.predict(X_test_c)\n",
    "#         # The mean squared error\n",
    "print(\"Mean squared error: %.2f\"% sqrt(mean_squared_error(Y_test_c, Y_pred)))"
   ]
  },
  {
   "cell_type": "code",
   "execution_count": 36,
   "metadata": {},
   "outputs": [
    {
     "name": "stdout",
     "output_type": "stream",
     "text": [
      "Mean squared error: 8853.13\n"
     ]
    }
   ],
   "source": [
    "#Decision tree regressor 6th\n",
    "from sklearn import tree\n",
    "reg_DT = tree.DecisionTreeRegressor()\n",
    "reg_DT.fit(X_train_c, Y_train_c)\n",
    "Y_pred = reg_DT.predict(X_test_c)\n",
    "#         # The mean squared error\n",
    "print(\"Mean squared error: %.2f\"% sqrt(mean_squared_error(Y_test_c, Y_pred)))\n"
   ]
  },
  {
   "cell_type": "code",
   "execution_count": 37,
   "metadata": {},
   "outputs": [
    {
     "name": "stdout",
     "output_type": "stream",
     "text": [
      "{'DecisionTreeRegressor': 8365.906344164703, 'RandomForestRegressor': 5737.453990599144, 'LassoLars': 6847.817968047794, 'Lasso': 6832.771284953189, 'BayesianRidge': 6834.1317793745875, 'Ridge': 6836.928613398307, 'LinearRegression': 6832.762693091424}\n"
     ]
    }
   ],
   "source": [
    "model_vs_err3 = {}\n",
    "model_vs_err3.update({\"DecisionTreeRegressor\" : sqrt(mean_squared_error(Y_test, reg_DT.predict(X_test)))})\n",
    "model_vs_err3.update({\"RandomForestRegressor\" : sqrt(mean_squared_error(Y_test, reg_RF.predict(X_test)))})\n",
    "model_vs_err3.update({\"LassoLars\" : sqrt(mean_squared_error(Y_test, reg_Lasso_LAR.predict(X_test)))})\n",
    "model_vs_err3.update({\"Lasso\" : sqrt(mean_squared_error(Y_test, reg_lasso.predict(X_test)))})\n",
    "model_vs_err3.update({\"BayesianRidge\" : sqrt(mean_squared_error(Y_test, reg_bay.predict(X_test)))})\n",
    "model_vs_err3.update({\"Ridge\" : sqrt(mean_squared_error(Y_test, reg_ridge.predict(X_test)))})\n",
    "model_vs_err3.update({\"LinearRegression\" : sqrt(mean_squared_error(Y_test, reg_Linear.predict(X_test)))})\n",
    "print(model_vs_err3)"
   ]
  },
  {
   "cell_type": "code",
   "execution_count": 38,
   "metadata": {},
   "outputs": [
    {
     "data": {
      "image/png": "[encoded data removed]",
      "text/plain": [
       "<Figure size 432x288 with 1 Axes>"
      ]
     },
     "metadata": {},
     "output_type": "display_data"
    }
   ],
   "source": [
    "import seaborn as sns\n",
    "import matplotlib.pyplot as plt\n",
    "sns.barplot(x=list(model_vs_err3.keys()), y=list(model_vs_err3.values()))\n",
    "plt.xticks(rotation= 90)\n",
    "plt.xlabel('Models')\n",
    "plt.ylabel('RMSE')\n",
    "plt.title('Models vs RMSE')\n",
    "plt.show()"
   ]
  },
  {
   "cell_type": "markdown",
   "metadata": {},
   "source": [
    "# Stratified holdout "
   ]
  },
  {
   "cell_type": "code",
   "execution_count": 39,
   "metadata": {},
   "outputs": [
    {
     "name": "stdout",
     "output_type": "stream",
     "text": [
      "Counter({1: 908, 2: 222, 4: 101, 3: 90, 0: 10, 5: 5, 6: 2})\n",
      "1338\n"
     ]
    }
   ],
   "source": [
    "#label to charge dataset from 0 to 6\n",
    "scaled_Y = (preprocessing.scale(Y))\n",
    "new_matrix = []\n",
    "for i in range(len(scaled_Y)):\n",
    "    if scaled_Y[i] <= (-1):\n",
    "        scaled_Y[i] = 0\n",
    "        new_matrix.append(0)\n",
    "    elif scaled_Y[i] > (-1) and scaled_Y[i] <= 0:\n",
    "        scaled_Y[i] = 1\n",
    "        new_matrix.append(1)\n",
    "    elif scaled_Y[i] > (0) and scaled_Y[i] <= 1:\n",
    "        scaled_Y[i] = 2\n",
    "        new_matrix.append(2)\n",
    "    elif scaled_Y[i] > (1) and scaled_Y[i] <= 2:\n",
    "        scaled_Y[i] = 3\n",
    "        new_matrix.append(3)\n",
    "    elif scaled_Y[i] > 2 and scaled_Y[i] <= 3:\n",
    "        scaled_Y[i] = 4\n",
    "        new_matrix.append(4)\n",
    "    elif scaled_Y[i] > 3 and scaled_Y[i] <= 4:\n",
    "        scaled_Y[i] = 5\n",
    "        new_matrix.append(5)\n",
    "    elif scaled_Y[i] > 4:\n",
    "        scaled_Y[i] = 6\n",
    "        new_matrix.append(6)\n",
    "print(Counter(new_matrix))\n",
    "new_matrix = np.array(new_matrix).reshape(-1, 1)\n",
    "print(len(new_matrix))"
   ]
  },
  {
   "cell_type": "code",
   "execution_count": 40,
   "metadata": {},
   "outputs": [],
   "source": [
    "X_train, X_test, Y_train, Y_test = train_test_split(twoD_X, twoD_Y, test_size=0.33, stratify=new_matrix)"
   ]
  },
  {
   "cell_type": "code",
   "execution_count": 41,
   "metadata": {},
   "outputs": [],
   "source": [
    "X_train_c, X_test_c, Y_train_c, Y_test_c = train_test_split(twoD_X, twoD_Y, test_size=0.33)"
   ]
  },
  {
   "cell_type": "code",
   "execution_count": 42,
   "metadata": {},
   "outputs": [
    {
     "name": "stdout",
     "output_type": "stream",
     "text": [
      "Mean squared error: 7036.86\n"
     ]
    }
   ],
   "source": [
    "#Linear regression 10th iteration\n",
    "reg_Linear = linear_model.LinearRegression()\n",
    "reg_Linear.fit(X_train_c, Y_train_c)\n",
    "Y_pred = reg_Linear.predict(X_test_c)\n",
    "# The root mean squared error\n",
    "print(\"Mean squared error: %.2f\"% sqrt(mean_squared_error(Y_test_c, Y_pred)))"
   ]
  },
  {
   "cell_type": "code",
   "execution_count": 43,
   "metadata": {},
   "outputs": [
    {
     "name": "stdout",
     "output_type": "stream",
     "text": [
      "Mean squared error: 7036.82\n"
     ]
    }
   ],
   "source": [
    "#Using ridge regression 10th iteration\n",
    "from sklearn.linear_model import Ridge\n",
    "reg_ridge = Ridge(alpha=1.0)\n",
    "reg_ridge.fit(X_train_c, Y_train_c)\n",
    "Y_pred = reg_ridge.predict(X_test_c)\n",
    "# The root mean squared error\n",
    "print(\"Mean squared error: %.2f\"% sqrt(mean_squared_error(Y_test_c, Y_pred)))\n"
   ]
  },
  {
   "cell_type": "code",
   "execution_count": 44,
   "metadata": {},
   "outputs": [
    {
     "name": "stdout",
     "output_type": "stream",
     "text": [
      "Mean squared error: 7036.77\n"
     ]
    }
   ],
   "source": [
    "#Using Bayesian Ridge Regression 10th iteration\n",
    "reg_bay = linear_model.BayesianRidge()\n",
    "reg_bay.fit(X_train_c, Y_train_c)\n",
    "Y_pred = reg_bay.predict(X_test_c)\n",
    "#         # The mean squared error\n",
    "print(\"Mean squared error: %.2f\"% sqrt(mean_squared_error(Y_test_c, Y_pred)))\n"
   ]
  },
  {
   "cell_type": "code",
   "execution_count": 45,
   "metadata": {},
   "outputs": [
    {
     "name": "stdout",
     "output_type": "stream",
     "text": [
      "Mean squared error: 7036.85\n"
     ]
    }
   ],
   "source": [
    "#Lasso regression 10th iteration\n",
    "reg_lasso = linear_model.Lasso(alpha = 0.1)\n",
    "reg_lasso.fit(X_train_c, Y_train_c)\n",
    "Y_pred = reg_lasso.predict(X_test_c)\n",
    "# The mean squared error\n",
    "print(\"Mean squared error: %.2f\"% sqrt(mean_squared_error(Y_test_c, Y_pred)))\n"
   ]
  },
  {
   "cell_type": "code",
   "execution_count": 46,
   "metadata": {},
   "outputs": [
    {
     "name": "stdout",
     "output_type": "stream",
     "text": [
      "Mean squared error: 7039.37\n"
     ]
    }
   ],
   "source": [
    "#Lasso Least Angle Regression 10th iteration\n",
    "reg_Lasso_LAR = linear_model.LassoLars(alpha=10)\n",
    "reg_Lasso_LAR.fit(X_train_c, Y_train_c)\n",
    "Y_pred = reg_Lasso_LAR.predict(X_test_c)\n",
    "#         # The mean squared error\n",
    "print(\"Mean squared error: %.2f\"% sqrt(mean_squared_error(Y_test_c, Y_pred)))"
   ]
  },
  {
   "cell_type": "code",
   "execution_count": 47,
   "metadata": {},
   "outputs": [
    {
     "name": "stdout",
     "output_type": "stream",
     "text": [
      "Mean squared error: 5971.31\n"
     ]
    }
   ],
   "source": [
    "#Random forest regressor 3rd\n",
    "from sklearn.ensemble import RandomForestRegressor\n",
    "reg_RF = RandomForestRegressor(max_depth=2, random_state=0)\n",
    "reg_RF.fit(X_train_c, Y_train_c)\n",
    "Y_pred = reg_RF.predict(X_test_c)\n",
    "#         # The mean squared error\n",
    "print(\"Mean squared error: %.2f\"% sqrt(mean_squared_error(Y_test_c, Y_pred)))"
   ]
  },
  {
   "cell_type": "code",
   "execution_count": 48,
   "metadata": {},
   "outputs": [
    {
     "name": "stdout",
     "output_type": "stream",
     "text": [
      "Mean squared error: 8624.76\n"
     ]
    }
   ],
   "source": [
    "#Decision tree regressor 6th\n",
    "from sklearn import tree\n",
    "reg_DT = tree.DecisionTreeRegressor()\n",
    "reg_DT.fit(X_train_c, Y_train_c)\n",
    "Y_pred = reg_DT.predict(X_test_c)\n",
    "#         # The mean squared error\n",
    "print(\"Mean squared error: %.2f\"% sqrt(mean_squared_error(Y_test_c, Y_pred)))"
   ]
  },
  {
   "cell_type": "code",
   "execution_count": 49,
   "metadata": {},
   "outputs": [
    {
     "name": "stdout",
     "output_type": "stream",
     "text": [
      "{'DecisionTreeRegressor': 5134.687997464128, 'RandomForestRegressor': 5866.075032671676, 'LassoLars': 7143.846742140991, 'Lasso': 7140.541714329866, 'BayesianRidge': 7140.340391851458, 'Ridge': 7140.1620326246275, 'LinearRegression': 7140.549254989638}\n"
     ]
    }
   ],
   "source": [
    "model_vs_err4 = {}\n",
    "model_vs_err4.update({\"DecisionTreeRegressor\" : sqrt(mean_squared_error(Y_test, reg_DT.predict(X_test)))})\n",
    "model_vs_err4.update({\"RandomForestRegressor\" : sqrt(mean_squared_error(Y_test, reg_RF.predict(X_test)))})\n",
    "model_vs_err4.update({\"LassoLars\" : sqrt(mean_squared_error(Y_test, reg_Lasso_LAR.predict(X_test)))})\n",
    "model_vs_err4.update({\"Lasso\" : sqrt(mean_squared_error(Y_test, reg_lasso.predict(X_test)))})\n",
    "model_vs_err4.update({\"BayesianRidge\" : sqrt(mean_squared_error(Y_test, reg_bay.predict(X_test)))})\n",
    "model_vs_err4.update({\"Ridge\" : sqrt(mean_squared_error(Y_test, reg_ridge.predict(X_test)))})\n",
    "model_vs_err4.update({\"LinearRegression\" : sqrt(mean_squared_error(Y_test, reg_Linear.predict(X_test)))})\n",
    "print(model_vs_err4)"
   ]
  },
  {
   "cell_type": "code",
   "execution_count": 50,
   "metadata": {},
   "outputs": [
    {
     "data": {
      "image/png": "[encoded data removed]",
      "text/plain": [
       "<Figure size 432x288 with 1 Axes>"
      ]
     },
     "metadata": {},
     "output_type": "display_data"
    }
   ],
   "source": [
    "import seaborn as sns\n",
    "import matplotlib.pyplot as plt\n",
    "sns.barplot(x=list(model_vs_err4.keys()), y=list(model_vs_err4.values()))\n",
    "plt.xticks(rotation= 90)\n",
    "plt.xlabel('Models')\n",
    "plt.ylabel('RMSE')\n",
    "plt.title('Models vs RMSE')\n",
    "plt.show()"
   ]
  },
  {
   "cell_type": "code",
   "execution_count": 51,
   "metadata": {},
   "outputs": [
    {
     "data": {
      "image/png": "[encoded data removed]",
      "text/plain": [
       "<Figure size 432x288 with 1 Axes>"
      ]
     },
     "metadata": {},
     "output_type": "display_data"
    }
   ],
   "source": [
    "# plot\n",
    "plt.plot( model_vs_err1.keys(), model_vs_err1.values(), marker='.', markersize=12, color='blue', label=\"Stratified Kfold\")\n",
    "plt.plot( model_vs_err2.keys(), model_vs_err2.values(), marker='.', markersize=12, color='red', label=\"BootStrapping\")\n",
    "plt.plot( model_vs_err3.keys(), model_vs_err3.values(), marker='.', markersize=12, color='green', label=\"Holdout Method\")\n",
    "plt.plot( model_vs_err4.keys(), model_vs_err4.values(), marker='.', markersize=12, color='black', label=\"Stratified Holdout\")\n",
    "plt.legend()\n",
    "plt.xticks(rotation= 90)\n",
    "plt.title('comparing cross validation methods')\n",
    "plt.xlabel('Models')\n",
    "plt.ylabel('RMSE')\n",
    "plt.show()"
   ]
  }
 ],
 "metadata": {
  "kernelspec": {
   "display_name": "Python 3",
   "language": "python",
   "name": "python3"
  },
  "language_info": {
   "codemirror_mode": {
    "name": "ipython",
    "version": 3
   },
   "file_extension": ".py",
   "mimetype": "text/x-python",
   "name": "python",
   "nbconvert_exporter": "python",
   "pygments_lexer": "ipython3",
   "version": "3.6.5"
  }
 },
 "nbformat": 4,
 "nbformat_minor": 2
}
