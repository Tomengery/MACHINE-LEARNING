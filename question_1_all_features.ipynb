{
 "cells": [
  {
   "cell_type": "code",
   "execution_count": 1,
   "metadata": {},
   "outputs": [],
   "source": [
    "import pandas as pd\n",
    "import numpy as np\n",
    "from collections import Counter\n",
    "from sklearn.model_selection import train_test_split\n",
    "from sklearn import preprocessing\n",
    "from math import sqrt\n",
    "from sklearn.metrics import mean_squared_error\n",
    "from sklearn import linear_model\n",
    "# from sklearn import tree"
   ]
  },
  {
   "cell_type": "code",
   "execution_count": 2,
   "metadata": {},
   "outputs": [],
   "source": [
    "#data processing\n",
    "df = pd.read_csv('insurance.csv')\n",
    "df = df.replace([\"male\", \"female\"], [0, 1])\n",
    "df = df.replace([\"yes\", \"no\"], [1, 0])\n",
    "df = df.replace([\"southeast\", \"southwest\", \"northeast\", \"northwest\"], [0, 1, 2, 3])\n",
    "#dropping age and sex feature\n",
    "X = df.drop([\"charges\"], axis = 1)\n",
    "Y = df[\"charges\"]\n",
    "twoD_Y = np.array(Y)\n",
    "twoD_X = np.array(X)"
   ]
  },
  {
   "cell_type": "markdown",
   "metadata": {},
   "source": [
    "# 1.StratifiedKFold cross-validation"
   ]
  },
  {
   "cell_type": "code",
   "execution_count": 3,
   "metadata": {},
   "outputs": [
    {
     "name": "stdout",
     "output_type": "stream",
     "text": [
      "[[45.     1.    25.175  2.     0.     2.   ]\n",
      " [36.     1.    30.02   0.     0.     3.   ]\n",
      " [64.     1.    26.885  0.     1.     3.   ]\n",
      " ...\n",
      " [53.     0.    21.4    1.     0.     1.   ]\n",
      " [26.     1.    29.64   4.     0.     2.   ]\n",
      " [23.     0.    32.56   0.     0.     0.   ]]\n"
     ]
    }
   ],
   "source": [
    "#split the dataset into train and test\n",
    "X_train, X_test, Y_train, Y_test = train_test_split(twoD_X, twoD_Y, test_size=0.33, random_state=42)\n",
    "print(X_test)"
   ]
  },
  {
   "cell_type": "code",
   "execution_count": 4,
   "metadata": {},
   "outputs": [
    {
     "name": "stdout",
     "output_type": "stream",
     "text": [
      "Counter({1: 594, 2: 153, 3: 68, 4: 60, 0: 15, 5: 5, 6: 1})\n",
      "896\n"
     ]
    }
   ],
   "source": [
    "#label to charge dataset from 0 to 6\n",
    "scaled_Y = (preprocessing.scale(Y_train))\n",
    "new_matrix = []\n",
    "for i in range(len(scaled_Y)):\n",
    "    if scaled_Y[i] <= (-1):\n",
    "        scaled_Y[i] = 0\n",
    "        new_matrix.append(0)\n",
    "    elif scaled_Y[i] > (-1) and scaled_Y[i] <= 0:\n",
    "        scaled_Y[i] = 1\n",
    "        new_matrix.append(1)\n",
    "    elif scaled_Y[i] > (0) and scaled_Y[i] <= 1:\n",
    "        scaled_Y[i] = 2\n",
    "        new_matrix.append(2)\n",
    "    elif scaled_Y[i] > (1) and scaled_Y[i] <= 2:\n",
    "        scaled_Y[i] = 3\n",
    "        new_matrix.append(3)\n",
    "    elif scaled_Y[i] > 2 and scaled_Y[i] <= 3:\n",
    "        scaled_Y[i] = 4\n",
    "        new_matrix.append(4)\n",
    "    elif scaled_Y[i] > 3 and scaled_Y[i] <= 4:\n",
    "        scaled_Y[i] = 5\n",
    "        new_matrix.append(5)\n",
    "    elif scaled_Y[i] > 4:\n",
    "        scaled_Y[i] = 6\n",
    "        new_matrix.append(6)\n",
    "print(Counter(new_matrix))\n",
    "new_matrix = np.array(new_matrix).reshape(-1, 1)\n",
    "print(len(new_matrix))"
   ]
  },
  {
   "cell_type": "code",
   "execution_count": 5,
   "metadata": {},
   "outputs": [],
   "source": [
    "#now use train data for cross_validation\n",
    "from sklearn.model_selection import StratifiedKFold\n",
    "skf = StratifiedKFold(n_splits=10, shuffle=False, random_state=42)"
   ]
  },
  {
   "cell_type": "code",
   "execution_count": 6,
   "metadata": {},
   "outputs": [
    {
     "name": "stdout",
     "output_type": "stream",
     "text": [
      "Mean squared error: 5707.08\n"
     ]
    },
    {
     "name": "stderr",
     "output_type": "stream",
     "text": [
      "/home/rish/.local/lib/python3.6/site-packages/sklearn/model_selection/_split.py:605: Warning: The least populated class in y has only 1 members, which is too few. The minimum number of members in any class cannot be less than n_splits=10.\n",
      "  % (min_groups, self.n_splits)), Warning)\n"
     ]
    }
   ],
   "source": [
    "#Linear regression 10th iteration\n",
    "reg_Linear = linear_model.LinearRegression()\n",
    "i = 0\n",
    "for train_index, test_index in skf.split(X_train, new_matrix):\n",
    "    i = i + 1\n",
    "    if i == 10:\n",
    "        reg_Linear.fit(X_train[train_index], Y_train[train_index])\n",
    "        Y_pred = reg_Linear.predict(X_train[test_index])\n",
    "        # The root mean squared error\n",
    "        print(\"Mean squared error: %.2f\"% sqrt(mean_squared_error(Y_train[test_index], Y_pred)))\n",
    "        break\n"
   ]
  },
  {
   "cell_type": "code",
   "execution_count": 7,
   "metadata": {},
   "outputs": [
    {
     "name": "stdout",
     "output_type": "stream",
     "text": [
      "Mean squared error: 5708.72\n"
     ]
    },
    {
     "name": "stderr",
     "output_type": "stream",
     "text": [
      "/home/rish/.local/lib/python3.6/site-packages/sklearn/model_selection/_split.py:605: Warning: The least populated class in y has only 1 members, which is too few. The minimum number of members in any class cannot be less than n_splits=10.\n",
      "  % (min_groups, self.n_splits)), Warning)\n"
     ]
    }
   ],
   "source": [
    "#Using ridge regression 10th iteration\n",
    "from sklearn.linear_model import Ridge\n",
    "reg_ridge = Ridge(alpha=1.0)\n",
    "i = 0\n",
    "for train_index, test_index in skf.split(X_train, new_matrix):\n",
    "    i = i + 1\n",
    "    if i == 10:\n",
    "        reg_ridge.fit(X_train[train_index], Y_train[train_index])\n",
    "        Y_pred = reg_ridge.predict(X_train[test_index])\n",
    "        # The root mean squared error\n",
    "        print(\"Mean squared error: %.2f\"% sqrt(mean_squared_error(Y_train[test_index], Y_pred)))\n",
    "        break"
   ]
  },
  {
   "cell_type": "code",
   "execution_count": 8,
   "metadata": {},
   "outputs": [
    {
     "name": "stdout",
     "output_type": "stream",
     "text": [
      "Mean squared error: 5707.67\n"
     ]
    },
    {
     "name": "stderr",
     "output_type": "stream",
     "text": [
      "/home/rish/.local/lib/python3.6/site-packages/sklearn/model_selection/_split.py:605: Warning: The least populated class in y has only 1 members, which is too few. The minimum number of members in any class cannot be less than n_splits=10.\n",
      "  % (min_groups, self.n_splits)), Warning)\n"
     ]
    }
   ],
   "source": [
    "#Using Bayesian Ridge Regression 10th iteration\n",
    "reg_bay = linear_model.BayesianRidge()\n",
    "i = 0\n",
    "for train_index, test_index in skf.split(X_train, new_matrix):\n",
    "    i = i + 1\n",
    "    if i == 10:\n",
    "        reg_bay.fit(X_train[train_index], Y_train[train_index])\n",
    "        Y_pred = reg_bay.predict(X_train[test_index])\n",
    "        #         # The mean squared error\n",
    "        print(\"Mean squared error: %.2f\"% sqrt(mean_squared_error(Y_train[test_index], Y_pred)))\n",
    "        break"
   ]
  },
  {
   "cell_type": "code",
   "execution_count": 9,
   "metadata": {},
   "outputs": [],
   "source": [
    "#predict using ....."
   ]
  },
  {
   "cell_type": "code",
   "execution_count": 10,
   "metadata": {},
   "outputs": [
    {
     "name": "stdout",
     "output_type": "stream",
     "text": [
      "Mean squared error: 5707.10\n"
     ]
    },
    {
     "name": "stderr",
     "output_type": "stream",
     "text": [
      "/home/rish/.local/lib/python3.6/site-packages/sklearn/model_selection/_split.py:605: Warning: The least populated class in y has only 1 members, which is too few. The minimum number of members in any class cannot be less than n_splits=10.\n",
      "  % (min_groups, self.n_splits)), Warning)\n"
     ]
    }
   ],
   "source": [
    "#Lasso regression 10th iteration\n",
    "reg_lasso = linear_model.Lasso(alpha = 0.1)\n",
    "i = 0\n",
    "for train_index, test_index in skf.split(X_train, new_matrix):\n",
    "    i = i + 1\n",
    "    if i == 10:\n",
    "        reg_lasso.fit(X_train[train_index], Y_train[train_index])\n",
    "        Y_pred = reg_lasso.predict(X_train[test_index])\n",
    "        #         # The mean squared error\n",
    "        print(\"Mean squared error: %.2f\"% sqrt(mean_squared_error(Y_train[test_index], Y_pred)))\n",
    "        break"
   ]
  },
  {
   "cell_type": "code",
   "execution_count": 11,
   "metadata": {},
   "outputs": [],
   "source": [
    "#predict using model"
   ]
  },
  {
   "cell_type": "code",
   "execution_count": 12,
   "metadata": {},
   "outputs": [
    {
     "name": "stdout",
     "output_type": "stream",
     "text": [
      "Mean squared error: 5761.26\n"
     ]
    },
    {
     "name": "stderr",
     "output_type": "stream",
     "text": [
      "/home/rish/.local/lib/python3.6/site-packages/sklearn/model_selection/_split.py:605: Warning: The least populated class in y has only 1 members, which is too few. The minimum number of members in any class cannot be less than n_splits=10.\n",
      "  % (min_groups, self.n_splits)), Warning)\n"
     ]
    }
   ],
   "source": [
    "#Lasso Least Angle Regression 10th iteration\n",
    "reg_Lasso_LAR = linear_model.LassoLars(alpha=10)\n",
    "i = 0\n",
    "for train_index, test_index in skf.split(X_train, new_matrix):\n",
    "    i = i + 1\n",
    "    if i == 10:\n",
    "        reg_Lasso_LAR.fit(X_train[train_index], Y_train[train_index])\n",
    "        Y_pred = reg_Lasso_LAR.predict(X_train[test_index])\n",
    "        #         # The mean squared error\n",
    "        print(\"Mean squared error: %.2f\"% sqrt(mean_squared_error(Y_train[test_index], Y_pred)))\n",
    "        break"
   ]
  },
  {
   "cell_type": "code",
   "execution_count": null,
   "metadata": {},
   "outputs": [],
   "source": []
  },
  {
   "cell_type": "code",
   "execution_count": 13,
   "metadata": {},
   "outputs": [
    {
     "name": "stdout",
     "output_type": "stream",
     "text": [
      "Mean squared error: 4198.55\n"
     ]
    },
    {
     "name": "stderr",
     "output_type": "stream",
     "text": [
      "/home/rish/.local/lib/python3.6/site-packages/sklearn/ensemble/weight_boosting.py:29: DeprecationWarning: numpy.core.umath_tests is an internal NumPy module and should not be imported. It will be removed in a future NumPy release.\n",
      "  from numpy.core.umath_tests import inner1d\n",
      "/home/rish/.local/lib/python3.6/site-packages/sklearn/model_selection/_split.py:605: Warning: The least populated class in y has only 1 members, which is too few. The minimum number of members in any class cannot be less than n_splits=10.\n",
      "  % (min_groups, self.n_splits)), Warning)\n"
     ]
    }
   ],
   "source": [
    "#Random forest regressor 3rd\n",
    "from sklearn.ensemble import RandomForestRegressor\n",
    "reg_RF = RandomForestRegressor(max_depth=2, random_state=0)\n",
    "i = 0\n",
    "for train_index, test_index in skf.split(X_train, new_matrix):\n",
    "    i = i + 1\n",
    "    if i== 3:\n",
    "        reg_RF.fit(X_train[train_index], Y_train[train_index])\n",
    "        Y_pred = reg_RF.predict(X_train[test_index])\n",
    "        #         # The mean squared error\n",
    "        print(\"Mean squared error: %.2f\"% sqrt(mean_squared_error(Y_train[test_index], Y_pred)))\n",
    "        break\n"
   ]
  },
  {
   "cell_type": "code",
   "execution_count": 14,
   "metadata": {},
   "outputs": [
    {
     "name": "stdout",
     "output_type": "stream",
     "text": [
      "Mean squared error: 6013.04\n"
     ]
    },
    {
     "name": "stderr",
     "output_type": "stream",
     "text": [
      "/home/rish/.local/lib/python3.6/site-packages/sklearn/model_selection/_split.py:605: Warning: The least populated class in y has only 1 members, which is too few. The minimum number of members in any class cannot be less than n_splits=10.\n",
      "  % (min_groups, self.n_splits)), Warning)\n"
     ]
    }
   ],
   "source": [
    "#Decision tree regressor 6th\n",
    "from sklearn import tree\n",
    "i = 0\n",
    "reg_DT = tree.DecisionTreeRegressor()\n",
    "for train_index, test_index in skf.split(X_train, new_matrix):\n",
    "    i = i + 1\n",
    "    if i == 6:\n",
    "        reg_DT.fit(X_train[train_index], Y_train[train_index])\n",
    "        Y_pred = reg_DT.predict(X_train[test_index])\n",
    "        #         # The mean squared error\n",
    "        print(\"Mean squared error: %.2f\"% sqrt(mean_squared_error(Y_train[test_index], Y_pred)))\n",
    "        break\n"
   ]
  },
  {
   "cell_type": "code",
   "execution_count": 15,
   "metadata": {},
   "outputs": [
    {
     "name": "stdout",
     "output_type": "stream",
     "text": [
      "{'DecisionTreeRegressor': 6278.075404740525, 'RandomForestRegressor': 4898.998634156379, 'LassoLars': 5973.187341131942, 'Lasso': 5932.700035419746, 'BayesianRidge': 5933.505331926118, 'Ridge': 5934.8920221253975, 'LinearRegression': 5932.698879418685}\n"
     ]
    }
   ],
   "source": [
    "model_vs_err1 = {}\n",
    "model_vs_err1.update({\"DecisionTreeRegressor\" : sqrt(mean_squared_error(Y_test, reg_DT.predict(X_test)))})\n",
    "model_vs_err1.update({\"RandomForestRegressor\" : sqrt(mean_squared_error(Y_test, reg_RF.predict(X_test)))})\n",
    "model_vs_err1.update({\"LassoLars\" : sqrt(mean_squared_error(Y_test, reg_Lasso_LAR.predict(X_test)))})\n",
    "model_vs_err1.update({\"Lasso\" : sqrt(mean_squared_error(Y_test, reg_lasso.predict(X_test)))})\n",
    "model_vs_err1.update({\"BayesianRidge\" : sqrt(mean_squared_error(Y_test, reg_bay.predict(X_test)))})\n",
    "model_vs_err1.update({\"Ridge\" : sqrt(mean_squared_error(Y_test, reg_ridge.predict(X_test)))})\n",
    "model_vs_err1.update({\"LinearRegression\" : sqrt(mean_squared_error(Y_test, reg_Linear.predict(X_test)))})\n",
    "print(model_vs_err1)"
   ]
  },
  {
   "cell_type": "code",
   "execution_count": 16,
   "metadata": {},
   "outputs": [
    {
     "data": {
      "text/plain": [
       "<Figure size 640x480 with 1 Axes>"
      ]
     },
     "metadata": {},
     "output_type": "display_data"
    }
   ],
   "source": [
    "import seaborn as sns\n",
    "import matplotlib.pyplot as plt\n",
    "sns.barplot(x=list(model_vs_err1.keys()), y=list(model_vs_err1.values()))\n",
    "plt.xticks(rotation= 90)\n",
    "plt.xlabel('Models')\n",
    "plt.ylabel('RMSE')\n",
    "plt.title('Models vs RMSE')\n",
    "plt.show()"
   ]
  },
  {
   "cell_type": "markdown",
   "metadata": {},
   "source": [
    "# 2.Bootstrapping"
   ]
  },
  {
   "cell_type": "code",
   "execution_count": 17,
   "metadata": {},
   "outputs": [],
   "source": [
    "#split the dataset into train and test\n",
    "X_train, X_test, Y_train, Y_test = train_test_split(twoD_X, twoD_Y, test_size=0.33, random_state=42)"
   ]
  },
  {
   "cell_type": "code",
   "execution_count": 18,
   "metadata": {},
   "outputs": [],
   "source": [
    "from sklearn.utils import resample\n",
    "X_train_boot=[]\n",
    "Y_train_boot=[]\n",
    "for i in range (1,11):\n",
    "    X_train_boot.append( resample(X_train,replace=True,random_state=i ))\n",
    "    Y_train_boot.append(resample(Y_train,replace=True,random_state=i ))   \n",
    "reg_Linear = linear_model.LinearRegression()"
   ]
  },
  {
   "cell_type": "code",
   "execution_count": 19,
   "metadata": {},
   "outputs": [
    {
     "name": "stdout",
     "output_type": "stream",
     "text": [
      "root Mean squared error: 5975.85\n",
      "root Mean squared error: 5938.27\n",
      "root Mean squared error: 5957.09\n",
      "root Mean squared error: 5975.69\n",
      "root Mean squared error: 5938.59\n",
      "root Mean squared error: 5967.44\n",
      "root Mean squared error: 5956.11\n",
      "root Mean squared error: 5994.48\n",
      "root Mean squared error: 5916.63\n",
      "root Mean squared error: 5959.60\n"
     ]
    },
    {
     "data": {
      "text/plain": [
       "LinearRegression(copy_X=True, fit_intercept=True, n_jobs=1, normalize=False)"
      ]
     },
     "execution_count": 19,
     "metadata": {},
     "output_type": "execute_result"
    }
   ],
   "source": [
    "for i in range (0,10):\n",
    "    reg_Linear.fit(X_train_boot[i], Y_train_boot[i])\n",
    "    Y_pred = reg_Linear.predict(X_test)\n",
    "    # The root mean squared error\n",
    "    print(\"root Mean squared error: %.2f\"% sqrt(mean_squared_error(Y_test, Y_pred))) \n",
    "# since best result is from i=8\n",
    "reg_Linear.fit(X_train_boot[8], Y_train_boot[8])"
   ]
  },
  {
   "cell_type": "code",
   "execution_count": 20,
   "metadata": {},
   "outputs": [
    {
     "name": "stdout",
     "output_type": "stream",
     "text": [
      "Mean squared error: 5980.97\n",
      "Mean squared error: 5942.04\n",
      "Mean squared error: 5959.63\n",
      "Mean squared error: 5973.97\n",
      "Mean squared error: 5942.58\n",
      "Mean squared error: 5971.11\n",
      "Mean squared error: 5957.89\n",
      "Mean squared error: 5995.50\n",
      "Mean squared error: 5914.46\n",
      "Mean squared error: 5963.04\n"
     ]
    },
    {
     "data": {
      "text/plain": [
       "Ridge(alpha=1.0, copy_X=True, fit_intercept=True, max_iter=None,\n",
       "   normalize=False, random_state=None, solver='auto', tol=0.001)"
      ]
     },
     "execution_count": 20,
     "metadata": {},
     "output_type": "execute_result"
    }
   ],
   "source": [
    "#Using ridge regression 10th iteration\n",
    "from sklearn.linear_model import Ridge\n",
    "reg_ridge = Ridge(alpha=1.0)\n",
    "for i in range (0,10):\n",
    "    reg_ridge.fit(X_train_boot[i], Y_train_boot[i])\n",
    "    Y_pred = reg_ridge.predict(X_test)\n",
    "    # The root mean squared error\n",
    "    print(\"Mean squared error: %.2f\"% sqrt(mean_squared_error(Y_test, Y_pred)))\n",
    "# since best result is from i=8\n",
    "reg_ridge.fit(X_train_boot[8], Y_train_boot[8])"
   ]
  },
  {
   "cell_type": "code",
   "execution_count": 21,
   "metadata": {},
   "outputs": [
    {
     "name": "stdout",
     "output_type": "stream",
     "text": [
      "Mean squared error: 5977.82\n",
      "Mean squared error: 5939.86\n",
      "Mean squared error: 5957.97\n",
      "Mean squared error: 5975.00\n",
      "Mean squared error: 5940.34\n",
      "Mean squared error: 5969.08\n",
      "Mean squared error: 5956.74\n",
      "Mean squared error: 5994.82\n",
      "Mean squared error: 5915.73\n",
      "Mean squared error: 5960.87\n"
     ]
    },
    {
     "data": {
      "text/plain": [
       "BayesianRidge(alpha_1=1e-06, alpha_2=1e-06, compute_score=False, copy_X=True,\n",
       "       fit_intercept=True, lambda_1=1e-06, lambda_2=1e-06, n_iter=300,\n",
       "       normalize=False, tol=0.001, verbose=False)"
      ]
     },
     "execution_count": 21,
     "metadata": {},
     "output_type": "execute_result"
    }
   ],
   "source": [
    "#Using Bayesian Ridge Regression 10th iteration\n",
    "reg_bay = linear_model.BayesianRidge()\n",
    "i = 0\n",
    "for i in range (0,10):\n",
    "    reg_bay.fit(X_train_boot[i], Y_train_boot[i])\n",
    "    Y_pred = reg_bay.predict(X_test)\n",
    "    # The root mean squared error\n",
    "    print(\"Mean squared error: %.2f\"% sqrt(mean_squared_error(Y_test, Y_pred)))\n",
    "# since best result is from i=8\n",
    "reg_bay.fit(X_train_boot[8], Y_train_boot[8])"
   ]
  },
  {
   "cell_type": "code",
   "execution_count": 22,
   "metadata": {},
   "outputs": [
    {
     "name": "stdout",
     "output_type": "stream",
     "text": [
      "Mean squared error: 5975.85\n",
      "Mean squared error: 5938.28\n",
      "Mean squared error: 5957.09\n",
      "Mean squared error: 5975.67\n",
      "Mean squared error: 5938.59\n",
      "Mean squared error: 5967.44\n",
      "Mean squared error: 5956.12\n",
      "Mean squared error: 5994.47\n",
      "Mean squared error: 5916.64\n",
      "Mean squared error: 5959.61\n"
     ]
    },
    {
     "data": {
      "text/plain": [
       "Lasso(alpha=0.1, copy_X=True, fit_intercept=True, max_iter=1000,\n",
       "   normalize=False, positive=False, precompute=False, random_state=None,\n",
       "   selection='cyclic', tol=0.0001, warm_start=False)"
      ]
     },
     "execution_count": 22,
     "metadata": {},
     "output_type": "execute_result"
    }
   ],
   "source": [
    "#Lasso regression 10th iteration\n",
    "reg_lasso = linear_model.Lasso(alpha = 0.1)\n",
    "for i in range (0,10):\n",
    "    reg_lasso.fit(X_train_boot[i], Y_train_boot[i])\n",
    "    Y_pred = reg_lasso.predict(X_test)\n",
    "    # The root mean squared error\n",
    "    print(\"Mean squared error: %.2f\"% sqrt(mean_squared_error(Y_test, Y_pred)))\n",
    "# since best result is from i=8\n",
    "reg_lasso.fit(X_train_boot[8], Y_train_boot[8])"
   ]
  },
  {
   "cell_type": "code",
   "execution_count": 23,
   "metadata": {},
   "outputs": [
    {
     "name": "stdout",
     "output_type": "stream",
     "text": [
      "Mean squared error: 6003.81\n",
      "Mean squared error: 6005.13\n",
      "Mean squared error: 6004.10\n",
      "Mean squared error: 5975.30\n",
      "Mean squared error: 5975.18\n",
      "Mean squared error: 6001.01\n",
      "Mean squared error: 5999.98\n",
      "Mean squared error: 6024.17\n",
      "Mean squared error: 5965.39\n",
      "Mean squared error: 6012.59\n"
     ]
    },
    {
     "data": {
      "text/plain": [
       "LassoLars(alpha=10, copy_X=True, eps=2.220446049250313e-16,\n",
       "     fit_intercept=True, fit_path=True, max_iter=500, normalize=True,\n",
       "     positive=False, precompute='auto', verbose=False)"
      ]
     },
     "execution_count": 23,
     "metadata": {},
     "output_type": "execute_result"
    }
   ],
   "source": [
    "#Lasso Least Angle Regression 10th iteration\n",
    "reg_Lasso_LAR = linear_model.LassoLars(alpha=10)\n",
    "for i in range (0,10):\n",
    "    reg_Lasso_LAR.fit(X_train_boot[i], Y_train_boot[i])\n",
    "    Y_pred = reg_Lasso_LAR.predict(X_test)\n",
    "    # The root mean squared error\n",
    "    print(\"Mean squared error: %.2f\"% sqrt(mean_squared_error(Y_test, Y_pred)))\n",
    "# since best result is from i=8\n",
    "reg_Lasso_LAR.fit(X_train_boot[8], Y_train_boot[8])"
   ]
  },
  {
   "cell_type": "code",
   "execution_count": 24,
   "metadata": {},
   "outputs": [
    {
     "name": "stdout",
     "output_type": "stream",
     "text": [
      "Mean squared error: 4927.72\n",
      "Mean squared error: 4894.36\n",
      "Mean squared error: 5008.24\n",
      "Mean squared error: 4958.40\n",
      "Mean squared error: 4959.85\n",
      "Mean squared error: 4983.78\n",
      "Mean squared error: 5066.86\n",
      "Mean squared error: 4992.17\n",
      "Mean squared error: 4962.02\n",
      "Mean squared error: 4968.96\n"
     ]
    },
    {
     "data": {
      "text/plain": [
       "RandomForestRegressor(bootstrap=True, criterion='mse', max_depth=2,\n",
       "           max_features='auto', max_leaf_nodes=None,\n",
       "           min_impurity_decrease=0.0, min_impurity_split=None,\n",
       "           min_samples_leaf=1, min_samples_split=2,\n",
       "           min_weight_fraction_leaf=0.0, n_estimators=10, n_jobs=1,\n",
       "           oob_score=False, random_state=0, verbose=0, warm_start=False)"
      ]
     },
     "execution_count": 24,
     "metadata": {},
     "output_type": "execute_result"
    }
   ],
   "source": [
    "#Random forest regressor 3rd\n",
    "from sklearn.ensemble import RandomForestRegressor\n",
    "reg_RF = RandomForestRegressor(max_depth=2, random_state=0)\n",
    "for i in range (0,10):\n",
    "    reg_RF.fit(X_train_boot[i], Y_train_boot[i])\n",
    "    Y_pred = reg_RF.predict(X_test)\n",
    "    # The root mean squared error\n",
    "    print(\"Mean squared error: %.2f\"% sqrt(mean_squared_error(Y_test, Y_pred)))\n",
    "# since best result is from i=8\n",
    "reg_RF.fit(X_train_boot[1], Y_train_boot[1])"
   ]
  },
  {
   "cell_type": "code",
   "execution_count": 25,
   "metadata": {},
   "outputs": [
    {
     "name": "stdout",
     "output_type": "stream",
     "text": [
      "Mean squared error: 6835.36\n",
      "Mean squared error: 6689.27\n",
      "Mean squared error: 6515.29\n",
      "Mean squared error: 6867.18\n",
      "Mean squared error: 6010.16\n",
      "Mean squared error: 6487.44\n",
      "Mean squared error: 5813.66\n",
      "Mean squared error: 6582.08\n",
      "Mean squared error: 6250.36\n",
      "Mean squared error: 6573.71\n"
     ]
    },
    {
     "data": {
      "text/plain": [
       "DecisionTreeRegressor(criterion='mse', max_depth=None, max_features=None,\n",
       "           max_leaf_nodes=None, min_impurity_decrease=0.0,\n",
       "           min_impurity_split=None, min_samples_leaf=1,\n",
       "           min_samples_split=2, min_weight_fraction_leaf=0.0,\n",
       "           presort=False, random_state=None, splitter='best')"
      ]
     },
     "execution_count": 25,
     "metadata": {},
     "output_type": "execute_result"
    }
   ],
   "source": [
    "#Decision tree regressor 6th\n",
    "from sklearn import tree\n",
    "reg_DT = tree.DecisionTreeRegressor()\n",
    "for i in range (0,10):\n",
    "    reg_DT.fit(X_train_boot[i], Y_train_boot[i])\n",
    "    Y_pred = reg_DT.predict(X_test)\n",
    "    # The root mean squared error\n",
    "    print(\"Mean squared error: %.2f\"% sqrt(mean_squared_error(Y_test, Y_pred)))\n",
    "# since best result is from i=8\n",
    "reg_DT.fit(X_train_boot[6], Y_train_boot[6])"
   ]
  },
  {
   "cell_type": "code",
   "execution_count": 26,
   "metadata": {},
   "outputs": [
    {
     "name": "stdout",
     "output_type": "stream",
     "text": [
      "{'DecisionTreeRegressor': 5746.199970296565, 'RandomForestRegressor': 4894.364872702751, 'LassoLars': 5965.386764020122, 'Lasso': 5916.640618921181, 'BayesianRidge': 5915.725620916385, 'Ridge': 5914.456514516512, 'LinearRegression': 5916.633023160509}\n"
     ]
    }
   ],
   "source": [
    "model_vs_err2 = {}\n",
    "model_vs_err2.update({\"DecisionTreeRegressor\" : sqrt(mean_squared_error(Y_test, reg_DT.predict(X_test)))})\n",
    "model_vs_err2.update({\"RandomForestRegressor\" : sqrt(mean_squared_error(Y_test, reg_RF.predict(X_test)))})\n",
    "model_vs_err2.update({\"LassoLars\" : sqrt(mean_squared_error(Y_test, reg_Lasso_LAR.predict(X_test)))})\n",
    "model_vs_err2.update({\"Lasso\" : sqrt(mean_squared_error(Y_test, reg_lasso.predict(X_test)))})\n",
    "model_vs_err2.update({\"BayesianRidge\" : sqrt(mean_squared_error(Y_test, reg_bay.predict(X_test)))})\n",
    "model_vs_err2.update({\"Ridge\" : sqrt(mean_squared_error(Y_test, reg_ridge.predict(X_test)))})\n",
    "model_vs_err2.update({\"LinearRegression\" : sqrt(mean_squared_error(Y_test, reg_Linear.predict(X_test)))})\n",
    "print(model_vs_err2)"
   ]
  },
  {
   "cell_type": "code",
   "execution_count": 27,
   "metadata": {},
   "outputs": [
    {
     "data": {
      "image/png": "[encoded data removed]",
      "text/plain": [
       "<Figure size 432x288 with 1 Axes>"
      ]
     },
     "metadata": {},
     "output_type": "display_data"
    }
   ],
   "source": [
    "import seaborn as sns\n",
    "import matplotlib.pyplot as plt\n",
    "sns.barplot(x=list(model_vs_err2.keys()), y=list(model_vs_err2.values()))\n",
    "plt.xticks(rotation= 90)\n",
    "plt.xlabel('Models')\n",
    "plt.ylabel('RMSE')\n",
    "plt.title('Models vs RMSE')\n",
    "plt.show()"
   ]
  },
  {
   "cell_type": "markdown",
   "metadata": {},
   "source": [
    "# 3.Holdout method"
   ]
  },
  {
   "cell_type": "code",
   "execution_count": 28,
   "metadata": {},
   "outputs": [],
   "source": [
    "#split the dataset into train and test\n",
    "X_train, X_test, Y_train, Y_test = train_test_split(twoD_X, twoD_Y, test_size=0.33, random_state=42)"
   ]
  },
  {
   "cell_type": "code",
   "execution_count": 29,
   "metadata": {},
   "outputs": [],
   "source": [
    "X_train_c, X_test_c, Y_train_c, Y_test_c = train_test_split(X_train, Y_train, test_size=0.33, random_state=42)"
   ]
  },
  {
   "cell_type": "code",
   "execution_count": 30,
   "metadata": {},
   "outputs": [
    {
     "name": "stdout",
     "output_type": "stream",
     "text": [
      "Mean squared error: 6136.32\n"
     ]
    }
   ],
   "source": [
    "#Linear regression 10th iteration\n",
    "reg_Linear = linear_model.LinearRegression()\n",
    "reg_Linear.fit(X_train_c, Y_train_c)\n",
    "Y_pred = reg_Linear.predict(X_test_c)\n",
    "# The root mean squared error\n",
    "print(\"Mean squared error: %.2f\"% sqrt(mean_squared_error(Y_test_c, Y_pred)))"
   ]
  },
  {
   "cell_type": "code",
   "execution_count": 31,
   "metadata": {},
   "outputs": [
    {
     "name": "stdout",
     "output_type": "stream",
     "text": [
      "Mean squared error: 6135.18\n"
     ]
    }
   ],
   "source": [
    "#Using ridge regression 10th iteration\n",
    "from sklearn.linear_model import Ridge\n",
    "reg_ridge = Ridge(alpha=1.0)\n",
    "reg_ridge.fit(X_train_c, Y_train_c)\n",
    "Y_pred = reg_ridge.predict(X_test_c)\n",
    "# The root mean squared error\n",
    "print(\"Mean squared error: %.2f\"% sqrt(mean_squared_error(Y_test_c, Y_pred)))\n"
   ]
  },
  {
   "cell_type": "code",
   "execution_count": 32,
   "metadata": {},
   "outputs": [
    {
     "name": "stdout",
     "output_type": "stream",
     "text": [
      "Mean squared error: 6135.68\n"
     ]
    }
   ],
   "source": [
    "#Using Bayesian Ridge Regression 10th iteration\n",
    "reg_bay = linear_model.BayesianRidge()\n",
    "reg_bay.fit(X_train_c, Y_train_c)\n",
    "Y_pred = reg_bay.predict(X_test_c)\n",
    "#         # The mean squared error\n",
    "print(\"Mean squared error: %.2f\"% sqrt(mean_squared_error(Y_test_c, Y_pred)))\n"
   ]
  },
  {
   "cell_type": "code",
   "execution_count": 33,
   "metadata": {},
   "outputs": [
    {
     "name": "stdout",
     "output_type": "stream",
     "text": [
      "Mean squared error: 6136.29\n"
     ]
    }
   ],
   "source": [
    "#Lasso regression 10th iteration\n",
    "reg_lasso = linear_model.Lasso(alpha = 0.1)\n",
    "reg_lasso.fit(X_train_c, Y_train_c)\n",
    "Y_pred = reg_lasso.predict(X_test_c)\n",
    "# The mean squared error\n",
    "print(\"Mean squared error: %.2f\"% sqrt(mean_squared_error(Y_test_c, Y_pred)))\n"
   ]
  },
  {
   "cell_type": "code",
   "execution_count": 34,
   "metadata": {},
   "outputs": [
    {
     "name": "stdout",
     "output_type": "stream",
     "text": [
      "Mean squared error: 6098.22\n"
     ]
    }
   ],
   "source": [
    "#Lasso Least Angle Regression 10th iteration\n",
    "reg_Lasso_LAR = linear_model.LassoLars(alpha=10)\n",
    "reg_Lasso_LAR.fit(X_train_c, Y_train_c)\n",
    "Y_pred = reg_Lasso_LAR.predict(X_test_c)\n",
    "#         # The mean squared error\n",
    "print(\"Mean squared error: %.2f\"% sqrt(mean_squared_error(Y_test_c, Y_pred)))"
   ]
  },
  {
   "cell_type": "code",
   "execution_count": 35,
   "metadata": {},
   "outputs": [
    {
     "name": "stdout",
     "output_type": "stream",
     "text": [
      "Mean squared error: 4931.62\n"
     ]
    }
   ],
   "source": [
    "#Random forest regressor 3rd\n",
    "from sklearn.ensemble import RandomForestRegressor\n",
    "reg_RF = RandomForestRegressor(max_depth=2, random_state=0)\n",
    "reg_RF.fit(X_train_c, Y_train_c)\n",
    "Y_pred = reg_RF.predict(X_test_c)\n",
    "#         # The mean squared error\n",
    "print(\"Mean squared error: %.2f\"% sqrt(mean_squared_error(Y_test_c, Y_pred)))"
   ]
  },
  {
   "cell_type": "code",
   "execution_count": 36,
   "metadata": {},
   "outputs": [
    {
     "name": "stdout",
     "output_type": "stream",
     "text": [
      "Mean squared error: 7215.96\n"
     ]
    }
   ],
   "source": [
    "#Decision tree regressor 6th\n",
    "from sklearn import tree\n",
    "reg_DT = tree.DecisionTreeRegressor()\n",
    "reg_DT.fit(X_train_c, Y_train_c)\n",
    "Y_pred = reg_DT.predict(X_test_c)\n",
    "#         # The mean squared error\n",
    "print(\"Mean squared error: %.2f\"% sqrt(mean_squared_error(Y_test_c, Y_pred)))\n"
   ]
  },
  {
   "cell_type": "code",
   "execution_count": 37,
   "metadata": {},
   "outputs": [
    {
     "name": "stdout",
     "output_type": "stream",
     "text": [
      "{'DecisionTreeRegressor': 6380.708557804768, 'RandomForestRegressor': 4927.090227347909, 'LassoLars': 5960.673045169935, 'Lasso': 5952.188490445702, 'BayesianRidge': 5953.124887145762, 'Ridge': 5954.9283289239465, 'LinearRegression': 5952.195079883145}\n"
     ]
    }
   ],
   "source": [
    "model_vs_err3 = {}\n",
    "model_vs_err3.update({\"DecisionTreeRegressor\" : sqrt(mean_squared_error(Y_test, reg_DT.predict(X_test)))})\n",
    "model_vs_err3.update({\"RandomForestRegressor\" : sqrt(mean_squared_error(Y_test, reg_RF.predict(X_test)))})\n",
    "model_vs_err3.update({\"LassoLars\" : sqrt(mean_squared_error(Y_test, reg_Lasso_LAR.predict(X_test)))})\n",
    "model_vs_err3.update({\"Lasso\" : sqrt(mean_squared_error(Y_test, reg_lasso.predict(X_test)))})\n",
    "model_vs_err3.update({\"BayesianRidge\" : sqrt(mean_squared_error(Y_test, reg_bay.predict(X_test)))})\n",
    "model_vs_err3.update({\"Ridge\" : sqrt(mean_squared_error(Y_test, reg_ridge.predict(X_test)))})\n",
    "model_vs_err3.update({\"LinearRegression\" : sqrt(mean_squared_error(Y_test, reg_Linear.predict(X_test)))})\n",
    "print(model_vs_err3)"
   ]
  },
  {
   "cell_type": "code",
   "execution_count": 38,
   "metadata": {},
   "outputs": [
    {
     "data": {
      "image/png": "[encoded data removed]",
      "text/plain": [
       "<Figure size 432x288 with 1 Axes>"
      ]
     },
     "metadata": {},
     "output_type": "display_data"
    }
   ],
   "source": [
    "import seaborn as sns\n",
    "import matplotlib.pyplot as plt\n",
    "sns.barplot(x=list(model_vs_err3.keys()), y=list(model_vs_err3.values()))\n",
    "plt.xticks(rotation= 90)\n",
    "plt.xlabel('Models')\n",
    "plt.ylabel('RMSE')\n",
    "plt.title('Models vs RMSE')\n",
    "plt.show()"
   ]
  },
  {
   "cell_type": "markdown",
   "metadata": {},
   "source": [
    "# Stratified holdout "
   ]
  },
  {
   "cell_type": "code",
   "execution_count": 39,
   "metadata": {},
   "outputs": [
    {
     "name": "stdout",
     "output_type": "stream",
     "text": [
      "Counter({1: 908, 2: 222, 4: 101, 3: 90, 0: 10, 5: 5, 6: 2})\n",
      "1338\n"
     ]
    }
   ],
   "source": [
    "#label to charge dataset from 0 to 6\n",
    "scaled_Y = (preprocessing.scale(Y))\n",
    "new_matrix = []\n",
    "for i in range(len(scaled_Y)):\n",
    "    if scaled_Y[i] <= (-1):\n",
    "        scaled_Y[i] = 0\n",
    "        new_matrix.append(0)\n",
    "    elif scaled_Y[i] > (-1) and scaled_Y[i] <= 0:\n",
    "        scaled_Y[i] = 1\n",
    "        new_matrix.append(1)\n",
    "    elif scaled_Y[i] > (0) and scaled_Y[i] <= 1:\n",
    "        scaled_Y[i] = 2\n",
    "        new_matrix.append(2)\n",
    "    elif scaled_Y[i] > (1) and scaled_Y[i] <= 2:\n",
    "        scaled_Y[i] = 3\n",
    "        new_matrix.append(3)\n",
    "    elif scaled_Y[i] > 2 and scaled_Y[i] <= 3:\n",
    "        scaled_Y[i] = 4\n",
    "        new_matrix.append(4)\n",
    "    elif scaled_Y[i] > 3 and scaled_Y[i] <= 4:\n",
    "        scaled_Y[i] = 5\n",
    "        new_matrix.append(5)\n",
    "    elif scaled_Y[i] > 4:\n",
    "        scaled_Y[i] = 6\n",
    "        new_matrix.append(6)\n",
    "print(Counter(new_matrix))\n",
    "new_matrix = np.array(new_matrix).reshape(-1, 1)\n",
    "print(len(new_matrix))"
   ]
  },
  {
   "cell_type": "code",
   "execution_count": 40,
   "metadata": {},
   "outputs": [],
   "source": [
    "X_train, X_test, Y_train, Y_test = train_test_split(twoD_X, twoD_Y, test_size=0.33, stratify=new_matrix)"
   ]
  },
  {
   "cell_type": "code",
   "execution_count": 41,
   "metadata": {},
   "outputs": [],
   "source": [
    "X_train_c, X_test_c, Y_train_c, Y_test_c = train_test_split(twoD_X, twoD_Y, test_size=0.33)"
   ]
  },
  {
   "cell_type": "code",
   "execution_count": 42,
   "metadata": {},
   "outputs": [
    {
     "name": "stdout",
     "output_type": "stream",
     "text": [
      "Mean squared error: 5967.51\n"
     ]
    }
   ],
   "source": [
    "#Linear regression 10th iteration\n",
    "reg_Linear = linear_model.LinearRegression()\n",
    "reg_Linear.fit(X_train_c, Y_train_c)\n",
    "Y_pred = reg_Linear.predict(X_test_c)\n",
    "# The root mean squared error\n",
    "print(\"Mean squared error: %.2f\"% sqrt(mean_squared_error(Y_test_c, Y_pred)))"
   ]
  },
  {
   "cell_type": "code",
   "execution_count": 43,
   "metadata": {},
   "outputs": [
    {
     "name": "stdout",
     "output_type": "stream",
     "text": [
      "Mean squared error: 5967.33\n"
     ]
    }
   ],
   "source": [
    "#Using ridge regression 10th iteration\n",
    "from sklearn.linear_model import Ridge\n",
    "reg_ridge = Ridge(alpha=1.0)\n",
    "reg_ridge.fit(X_train_c, Y_train_c)\n",
    "Y_pred = reg_ridge.predict(X_test_c)\n",
    "# The root mean squared error\n",
    "print(\"Mean squared error: %.2f\"% sqrt(mean_squared_error(Y_test_c, Y_pred)))\n"
   ]
  },
  {
   "cell_type": "code",
   "execution_count": 44,
   "metadata": {},
   "outputs": [
    {
     "name": "stdout",
     "output_type": "stream",
     "text": [
      "Mean squared error: 5967.35\n"
     ]
    }
   ],
   "source": [
    "#Using Bayesian Ridge Regression 10th iteration\n",
    "reg_bay = linear_model.BayesianRidge()\n",
    "reg_bay.fit(X_train_c, Y_train_c)\n",
    "Y_pred = reg_bay.predict(X_test_c)\n",
    "#         # The mean squared error\n",
    "print(\"Mean squared error: %.2f\"% sqrt(mean_squared_error(Y_test_c, Y_pred)))\n"
   ]
  },
  {
   "cell_type": "code",
   "execution_count": 45,
   "metadata": {},
   "outputs": [
    {
     "name": "stdout",
     "output_type": "stream",
     "text": [
      "Mean squared error: 5967.49\n"
     ]
    }
   ],
   "source": [
    "#Lasso regression 10th iteration\n",
    "reg_lasso = linear_model.Lasso(alpha = 0.1)\n",
    "reg_lasso.fit(X_train_c, Y_train_c)\n",
    "Y_pred = reg_lasso.predict(X_test_c)\n",
    "# The mean squared error\n",
    "print(\"Mean squared error: %.2f\"% sqrt(mean_squared_error(Y_test_c, Y_pred)))\n"
   ]
  },
  {
   "cell_type": "code",
   "execution_count": 46,
   "metadata": {},
   "outputs": [
    {
     "name": "stdout",
     "output_type": "stream",
     "text": [
      "Mean squared error: 6022.91\n"
     ]
    }
   ],
   "source": [
    "#Lasso Least Angle Regression 10th iteration\n",
    "reg_Lasso_LAR = linear_model.LassoLars(alpha=10)\n",
    "reg_Lasso_LAR.fit(X_train_c, Y_train_c)\n",
    "Y_pred = reg_Lasso_LAR.predict(X_test_c)\n",
    "#         # The mean squared error\n",
    "print(\"Mean squared error: %.2f\"% sqrt(mean_squared_error(Y_test_c, Y_pred)))"
   ]
  },
  {
   "cell_type": "code",
   "execution_count": 47,
   "metadata": {},
   "outputs": [
    {
     "name": "stdout",
     "output_type": "stream",
     "text": [
      "Mean squared error: 5183.59\n"
     ]
    }
   ],
   "source": [
    "#Random forest regressor 3rd\n",
    "from sklearn.ensemble import RandomForestRegressor\n",
    "reg_RF = RandomForestRegressor(max_depth=2, random_state=0)\n",
    "reg_RF.fit(X_train_c, Y_train_c)\n",
    "Y_pred = reg_RF.predict(X_test_c)\n",
    "#         # The mean squared error\n",
    "print(\"Mean squared error: %.2f\"% sqrt(mean_squared_error(Y_test_c, Y_pred)))"
   ]
  },
  {
   "cell_type": "code",
   "execution_count": 48,
   "metadata": {},
   "outputs": [
    {
     "name": "stdout",
     "output_type": "stream",
     "text": [
      "Mean squared error: 6339.34\n"
     ]
    }
   ],
   "source": [
    "#Decision tree regressor 6th\n",
    "from sklearn import tree\n",
    "reg_DT = tree.DecisionTreeRegressor()\n",
    "reg_DT.fit(X_train_c, Y_train_c)\n",
    "Y_pred = reg_DT.predict(X_test_c)\n",
    "#         # The mean squared error\n",
    "print(\"Mean squared error: %.2f\"% sqrt(mean_squared_error(Y_test_c, Y_pred)))"
   ]
  },
  {
   "cell_type": "code",
   "execution_count": 49,
   "metadata": {},
   "outputs": [
    {
     "name": "stdout",
     "output_type": "stream",
     "text": [
      "{'DecisionTreeRegressor': 3204.57208099246, 'RandomForestRegressor': 5162.7842028280675, 'LassoLars': 6311.306720208713, 'Lasso': 6290.728476771947, 'BayesianRidge': 6290.1447953944125, 'Ridge': 6289.473697065941, 'LinearRegression': 6290.730168716292}\n"
     ]
    }
   ],
   "source": [
    "model_vs_err4 = {}\n",
    "model_vs_err4.update({\"DecisionTreeRegressor\" : sqrt(mean_squared_error(Y_test, reg_DT.predict(X_test)))})\n",
    "model_vs_err4.update({\"RandomForestRegressor\" : sqrt(mean_squared_error(Y_test, reg_RF.predict(X_test)))})\n",
    "model_vs_err4.update({\"LassoLars\" : sqrt(mean_squared_error(Y_test, reg_Lasso_LAR.predict(X_test)))})\n",
    "model_vs_err4.update({\"Lasso\" : sqrt(mean_squared_error(Y_test, reg_lasso.predict(X_test)))})\n",
    "model_vs_err4.update({\"BayesianRidge\" : sqrt(mean_squared_error(Y_test, reg_bay.predict(X_test)))})\n",
    "model_vs_err4.update({\"Ridge\" : sqrt(mean_squared_error(Y_test, reg_ridge.predict(X_test)))})\n",
    "model_vs_err4.update({\"LinearRegression\" : sqrt(mean_squared_error(Y_test, reg_Linear.predict(X_test)))})\n",
    "print(model_vs_err4)"
   ]
  },
  {
   "cell_type": "code",
   "execution_count": 50,
   "metadata": {},
   "outputs": [
    {
     "data": {
      "image/png": "[encoded data removed]",
      "text/plain": [
       "<Figure size 432x288 with 1 Axes>"
      ]
     },
     "metadata": {},
     "output_type": "display_data"
    }
   ],
   "source": [
    "import seaborn as sns\n",
    "import matplotlib.pyplot as plt\n",
    "sns.barplot(x=list(model_vs_err4.keys()), y=list(model_vs_err4.values()))\n",
    "plt.xticks(rotation= 90)\n",
    "plt.xlabel('Models')\n",
    "plt.ylabel('RMSE')\n",
    "plt.title('Models vs RMSE')\n",
    "plt.show()"
   ]
  },
  {
   "cell_type": "code",
   "execution_count": 61,
   "metadata": {},
   "outputs": [
    {
     "data": {
      "image/png": "[encoded data removed]",
      "text/plain": [
       "<Figure size 432x288 with 1 Axes>"
      ]
     },
     "metadata": {},
     "output_type": "display_data"
    }
   ],
   "source": [
    "# plot\n",
    "plt.plot( model_vs_err1.keys(), model_vs_err1.values(), marker='.', markersize=12, color='blue', label=\"Stratified Kfold\")\n",
    "plt.plot( model_vs_err2.keys(), model_vs_err2.values(), marker='.', markersize=12, color='red', label=\"BootStrapping\")\n",
    "plt.plot( model_vs_err3.keys(), model_vs_err3.values(), marker='.', markersize=12, color='green', label=\"Holdout Method\")\n",
    "plt.plot( model_vs_err4.keys(), model_vs_err4.values(), marker='.', markersize=12, color='black', label=\"Stratified Holdout\")\n",
    "plt.legend()\n",
    "plt.xticks(rotation= 90)\n",
    "plt.title('comparing cross validation methods')\n",
    "plt.xlabel('Models')\n",
    "plt.ylabel('RMSE')\n",
    "plt.show()"
   ]
  }
 ],
 "metadata": {
  "kernelspec": {
   "display_name": "Python 3",
   "language": "python",
   "name": "python3"
  },
  "language_info": {
   "codemirror_mode": {
    "name": "ipython",
    "version": 3
   },
   "file_extension": ".py",
   "mimetype": "text/x-python",
   "name": "python",
   "nbconvert_exporter": "python",
   "pygments_lexer": "ipython3",
   "version": "3.6.5"
  }
 },
 "nbformat": 4,
 "nbformat_minor": 2
}
