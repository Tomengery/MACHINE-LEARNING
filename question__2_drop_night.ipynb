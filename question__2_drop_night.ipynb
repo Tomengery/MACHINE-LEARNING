{
 "cells": [
  {
   "cell_type": "code",
   "execution_count": 3,
   "metadata": {},
   "outputs": [],
   "source": [
    "#import libraries\n",
    "import pandas as pd\n",
    "import numpy as np\n",
    "from collections import Counter\n",
    "from sklearn.model_selection import StratifiedKFold\n",
    "from sklearn.model_selection import train_test_split\n",
    "from sklearn import metrics\n",
    "from sklearn import linear_model"
   ]
  },
  {
   "cell_type": "code",
   "execution_count": 4,
   "metadata": {},
   "outputs": [
    {
     "name": "stdout",
     "output_type": "stream",
     "text": [
      "Index(['state', 'account length', 'area code', 'phone number',\n",
      "       'international plan', 'voice mail plan', 'number vmail messages',\n",
      "       'total day minutes', 'total day calls', 'total day charge',\n",
      "       'total eve minutes', 'total eve calls', 'total eve charge',\n",
      "       'total night minutes', 'total night calls', 'total night charge',\n",
      "       'total intl minutes', 'total intl calls', 'total intl charge',\n",
      "       'customer service calls', 'churn'],\n",
      "      dtype='object')\n"
     ]
    }
   ],
   "source": [
    "#import dataset\n",
    "df = pd.read_csv('bigml_59c28831336c6604c800002a.csv')\n",
    "df = df.replace([\"yes\", \"no\"], [1, 0])\n",
    "temp = Counter(np.array(df)[:,0]) \n",
    "i = -1\n",
    "dictt = {}\n",
    "for k, v in temp.items():\n",
    "    i = i + 1\n",
    "    dictt.update({k:i})\n",
    "df = df.replace(dictt)\n",
    "\n",
    "print(df.keys())\n",
    "for i in range(len(df[\"phone number\"])):\n",
    "    temp = df.loc[i, \"phone number\"]\n",
    "    df.loc[i, \"phone number\"] = temp.replace('-', '')\n",
    "#extract target data\n",
    "twoD_Y = df[\"churn\"]\n",
    "twoD_Y = np.array(np.int_(twoD_Y.replace(True, 1)))\n",
    "#extract train data 1\n",
    "twoD_X = np.array(df.drop([\"churn\", \"state\", \"phone number\",\"total night minutes\",\"total night calls\",\"total night charge\"], axis = 1))"
   ]
  },
  {
   "cell_type": "markdown",
   "metadata": {},
   "source": [
    "# 1.StratifiedKFold"
   ]
  },
  {
   "cell_type": "code",
   "execution_count": 5,
   "metadata": {},
   "outputs": [],
   "source": [
    "#split the dataset into train and test\n",
    "X_train, X_test, Y_train, Y_test = train_test_split(twoD_X, twoD_Y, test_size=0.2, random_state=42)\n",
    "#Stratified K Fold\n",
    "skf = StratifiedKFold(n_splits=10, shuffle=False, random_state=42)"
   ]
  },
  {
   "cell_type": "code",
   "execution_count": 6,
   "metadata": {},
   "outputs": [
    {
     "name": "stdout",
     "output_type": "stream",
     "text": [
      "accuracy score:  0.8576779026217228\n"
     ]
    }
   ],
   "source": [
    "#fine tuned 3rd iteration has least error\n",
    "from sklearn import svm\n",
    "#kernel = 'linear'\n",
    "i = 0\n",
    "clf_svm = svm.SVC(kernel='linear', gamma=1)\n",
    "for train_index, test_index in skf.split(X_train, Y_train):\n",
    "    i = i + 1\n",
    "    if i == 3:\n",
    "        clf_svm.fit(X_train[train_index], Y_train[train_index])\n",
    "        Y_pred = clf_svm.predict(X_train[test_index])\n",
    "        print(\"accuracy score: \", metrics.accuracy_score(Y_train[test_index], Y_pred))\n",
    "        break"
   ]
  },
  {
   "cell_type": "code",
   "execution_count": 7,
   "metadata": {},
   "outputs": [
    {
     "name": "stdout",
     "output_type": "stream",
     "text": [
      "accuracy score:  0.9511278195488722\n"
     ]
    },
    {
     "name": "stderr",
     "output_type": "stream",
     "text": [
      "/home/rish/.local/lib/python3.6/site-packages/sklearn/ensemble/weight_boosting.py:29: DeprecationWarning: numpy.core.umath_tests is an internal NumPy module and should not be imported. It will be removed in a future NumPy release.\n",
      "  from numpy.core.umath_tests import inner1d\n"
     ]
    }
   ],
   "source": [
    "#fine tuned 9th iteration has least error\n",
    "#Random forest classification model\n",
    "#max depth = 20\n",
    "from sklearn.ensemble import RandomForestClassifier\n",
    "i = 0\n",
    "clf_RF = RandomForestClassifier(max_depth=20, random_state=0)\n",
    "for train_index, test_index in skf.split(X_train, Y_train):\n",
    "    i = i + 1\n",
    "    if i == 9:\n",
    "        clf_RF.fit(X_train[train_index], Y_train[train_index])\n",
    "        Y_pred = clf_RF.predict(X_train[test_index])\n",
    "        print(\"accuracy score: \", metrics.accuracy_score(Y_train[test_index], Y_pred))\n",
    "        break"
   ]
  },
  {
   "cell_type": "code",
   "execution_count": 8,
   "metadata": {},
   "outputs": [
    {
     "name": "stdout",
     "output_type": "stream",
     "text": [
      "0.8582089552238806\n"
     ]
    },
    {
     "name": "stderr",
     "output_type": "stream",
     "text": [
      "/home/rish/.local/lib/python3.6/site-packages/sklearn/linear_model/stochastic_gradient.py:128: FutureWarning: max_iter and tol parameters have been added in <class 'sklearn.linear_model.stochastic_gradient.SGDClassifier'> in 0.19. If both are left unset, they default to max_iter=5 and tol=None. If tol is not None, max_iter defaults to max_iter=1000. From 0.21, default max_iter will be 1000, and default tol will be 1e-3.\n",
      "  \"and default tol will be 1e-3.\" % type(self), FutureWarning)\n"
     ]
    }
   ],
   "source": [
    "#fine tuned 1st iteration has least error\n",
    "#stocastic gradient descent\n",
    "from sklearn.linear_model import SGDClassifier\n",
    "i = 0\n",
    "clf_SGD = SGDClassifier(loss=\"log\", penalty=\"l2\")\n",
    "for train_index, test_index in skf.split(X_train, Y_train):\n",
    "    i = i + 1\n",
    "    if i == 1:\n",
    "        clf_SGD.fit(X_train[train_index], Y_train[train_index])\n",
    "        Y_pred = clf_SGD.predict(X_train[test_index])\n",
    "        print(metrics.accuracy_score(Y_train[test_index], Y_pred))\n",
    "        break"
   ]
  },
  {
   "cell_type": "code",
   "execution_count": 9,
   "metadata": {},
   "outputs": [
    {
     "name": "stdout",
     "output_type": "stream",
     "text": [
      "0.9210526315789473\n"
     ]
    }
   ],
   "source": [
    "#fine tuned 9th iteration has least error\n",
    "#decision tree classifier\n",
    "from sklearn import tree\n",
    "\n",
    "clf_DT = tree.DecisionTreeClassifier()\n",
    "i = 0\n",
    "for train_index, test_index in skf.split(X_train, Y_train):\n",
    "    i = i + 1\n",
    "    if i == 9:\n",
    "        clf_DT.fit(X_train[train_index], Y_train[train_index])\n",
    "        Y_pred = clf_DT.predict(X_train[test_index])\n",
    "        print(metrics.accuracy_score(Y_train[test_index], Y_pred))\n",
    "        break"
   ]
  },
  {
   "cell_type": "code",
   "execution_count": 10,
   "metadata": {},
   "outputs": [
    {
     "name": "stdout",
     "output_type": "stream",
     "text": [
      "0.8759398496240601\n"
     ]
    }
   ],
   "source": [
    "#fine tuned 10th iteration has least error\n",
    "#logistic regressor 2-class classifier\n",
    "logreg = linear_model.LogisticRegression()\n",
    "i = 0\n",
    "for train_index, test_index in skf.split(X_train, Y_train):\n",
    "    i = i + 1\n",
    "    if i == 10:\n",
    "        logreg.fit(X_train[train_index], Y_train[train_index])\n",
    "        Y_pred = logreg.predict(X_train[test_index])\n",
    "        print(metrics.accuracy_score(Y_train[test_index], Y_pred))\n",
    "        break"
   ]
  },
  {
   "cell_type": "code",
   "execution_count": 11,
   "metadata": {},
   "outputs": [
    {
     "name": "stdout",
     "output_type": "stream",
     "text": [
      "{'LogisticRegression': 0.8545727136431784, 'DecisionTreeClassifier': 0.9085457271364318, 'SGD': 0.8500749625187406, 'RandomForestClassifier': 0.9295352323838081, 'SupportVectorMachine': 0.848575712143928}\n"
     ]
    }
   ],
   "source": [
    "model_vs_err1 = {}\n",
    "model_vs_err1.update({\"LogisticRegression\" : metrics.accuracy_score(Y_test, logreg.predict(X_test))})\n",
    "model_vs_err1.update({\"DecisionTreeClassifier\" : metrics.accuracy_score(Y_test, clf_DT.predict(X_test))})\n",
    "model_vs_err1.update({\"SGD\" : metrics.accuracy_score(Y_test, clf_SGD.predict(X_test))})\n",
    "model_vs_err1.update({\"RandomForestClassifier\" : metrics.accuracy_score(Y_test, clf_RF.predict(X_test))})\n",
    "model_vs_err1.update({\"SupportVectorMachine\" : metrics.accuracy_score(Y_test, clf_svm.predict(X_test))})\n",
    "print(model_vs_err1)"
   ]
  },
  {
   "cell_type": "code",
   "execution_count": 12,
   "metadata": {},
   "outputs": [
    {
     "data": {
      "text/plain": [
       "<Figure size 640x480 with 1 Axes>"
      ]
     },
     "metadata": {},
     "output_type": "display_data"
    }
   ],
   "source": [
    "import seaborn as sns\n",
    "import matplotlib.pyplot as plt\n",
    "sns.barplot(x=list(model_vs_err1.keys()), y=list(model_vs_err1.values()))\n",
    "plt.xticks(rotation= 90)\n",
    "plt.xlabel('Models')\n",
    "plt.ylabel('Accuracy Score')\n",
    "plt.title('Models vs Accuracy Score')\n",
    "plt.show()"
   ]
  },
  {
   "cell_type": "markdown",
   "metadata": {},
   "source": [
    "# 2.Holdout "
   ]
  },
  {
   "cell_type": "code",
   "execution_count": 13,
   "metadata": {},
   "outputs": [],
   "source": [
    "#split the dataset into train and test\n",
    "X_train, X_test, Y_train, Y_test = train_test_split(twoD_X, twoD_Y, test_size=0.2, random_state=42)\n",
    "X_train_c, X_test_c, Y_train_c, Y_test_c = train_test_split(X_train, Y_train, test_size=0.2, random_state=42)\n"
   ]
  },
  {
   "cell_type": "code",
   "execution_count": 14,
   "metadata": {},
   "outputs": [
    {
     "name": "stdout",
     "output_type": "stream",
     "text": [
      "accuracy score:  0.8558052434456929\n"
     ]
    }
   ],
   "source": [
    "#fine tuned 3rd iteration has least error\n",
    "from sklearn import svm\n",
    "#kernel = 'linear'\n",
    "clf_svm = svm.SVC(kernel='linear', gamma=1)\n",
    "clf_svm.fit(X_train_c, Y_train_c)\n",
    "Y_pred = clf_svm.predict(X_test_c)\n",
    "print(\"accuracy score: \", metrics.accuracy_score(Y_test_c, Y_pred))"
   ]
  },
  {
   "cell_type": "code",
   "execution_count": 15,
   "metadata": {},
   "outputs": [
    {
     "name": "stdout",
     "output_type": "stream",
     "text": [
      "accuracy score:  0.9400749063670412\n"
     ]
    }
   ],
   "source": [
    "#fine tuned 9th iteration has least error\n",
    "#Random forest classification model\n",
    "#max depth = 20\n",
    "from sklearn.ensemble import RandomForestClassifier\n",
    "clf_RF = RandomForestClassifier(max_depth=20, random_state=0)\n",
    "clf_RF.fit(X_train_c, Y_train_c)\n",
    "Y_pred = clf_RF.predict(X_test_c)\n",
    "print(\"accuracy score: \", metrics.accuracy_score(Y_test_c, Y_pred))"
   ]
  },
  {
   "cell_type": "code",
   "execution_count": 16,
   "metadata": {},
   "outputs": [
    {
     "name": "stdout",
     "output_type": "stream",
     "text": [
      "0.8632958801498127\n"
     ]
    },
    {
     "name": "stderr",
     "output_type": "stream",
     "text": [
      "/home/rish/.local/lib/python3.6/site-packages/sklearn/linear_model/stochastic_gradient.py:128: FutureWarning: max_iter and tol parameters have been added in <class 'sklearn.linear_model.stochastic_gradient.SGDClassifier'> in 0.19. If both are left unset, they default to max_iter=5 and tol=None. If tol is not None, max_iter defaults to max_iter=1000. From 0.21, default max_iter will be 1000, and default tol will be 1e-3.\n",
      "  \"and default tol will be 1e-3.\" % type(self), FutureWarning)\n"
     ]
    }
   ],
   "source": [
    "#fine tuned 1st iteration has least error\n",
    "#stocastic gradient descent\n",
    "from sklearn.linear_model import SGDClassifier\n",
    "clf_SGD = SGDClassifier(loss=\"log\", penalty=\"l2\")\n",
    "clf_SGD.fit(X_train_c, Y_train_c)\n",
    "Y_pred = clf_SGD.predict(X_test_c)\n",
    "print(metrics.accuracy_score(Y_test_c, Y_pred))"
   ]
  },
  {
   "cell_type": "code",
   "execution_count": 17,
   "metadata": {},
   "outputs": [
    {
     "name": "stdout",
     "output_type": "stream",
     "text": [
      "0.9176029962546817\n"
     ]
    }
   ],
   "source": [
    "#fine tuned 9th iteration has least error\n",
    "#decision tree classifier\n",
    "from sklearn import tree\n",
    "clf_DT = tree.DecisionTreeClassifier()\n",
    "clf_DT.fit(X_train_c, Y_train_c)\n",
    "Y_pred = clf_DT.predict(X_test_c)\n",
    "print(metrics.accuracy_score(Y_test_c, Y_pred))"
   ]
  },
  {
   "cell_type": "code",
   "execution_count": 18,
   "metadata": {},
   "outputs": [
    {
     "name": "stdout",
     "output_type": "stream",
     "text": [
      "0.8539325842696629\n"
     ]
    }
   ],
   "source": [
    "#fine tuned 10th iteration has least error\n",
    "#logistic regressor 2-class classifier\n",
    "logreg = linear_model.LogisticRegression()\n",
    "logreg.fit(X_train_c, Y_train_c)\n",
    "Y_pred = logreg.predict(X_test_c)\n",
    "print(metrics.accuracy_score(Y_test_c, Y_pred))"
   ]
  },
  {
   "cell_type": "code",
   "execution_count": 19,
   "metadata": {},
   "outputs": [
    {
     "name": "stdout",
     "output_type": "stream",
     "text": [
      "{'LogisticRegression': 0.8575712143928036, 'DecisionTreeClassifier': 0.9160419790104948, 'SGD': 0.8545727136431784, 'RandomForestClassifier': 0.9250374812593704, 'SupportVectorMachine': 0.848575712143928}\n"
     ]
    }
   ],
   "source": [
    "model_vs_err2 = {}\n",
    "model_vs_err2.update({\"LogisticRegression\" : metrics.accuracy_score(Y_test, logreg.predict(X_test))})\n",
    "model_vs_err2.update({\"DecisionTreeClassifier\" : metrics.accuracy_score(Y_test, clf_DT.predict(X_test))})\n",
    "model_vs_err2.update({\"SGD\" : metrics.accuracy_score(Y_test, clf_SGD.predict(X_test))})\n",
    "model_vs_err2.update({\"RandomForestClassifier\" : metrics.accuracy_score(Y_test, clf_RF.predict(X_test))})\n",
    "model_vs_err2.update({\"SupportVectorMachine\" : metrics.accuracy_score(Y_test, clf_svm.predict(X_test))})\n",
    "print(model_vs_err2)"
   ]
  },
  {
   "cell_type": "code",
   "execution_count": 20,
   "metadata": {},
   "outputs": [
    {
     "data": {
      "image/png": "[encoded data removed]",
      "text/plain": [
       "<Figure size 432x288 with 1 Axes>"
      ]
     },
     "metadata": {},
     "output_type": "display_data"
    }
   ],
   "source": [
    "import seaborn as sns\n",
    "import matplotlib.pyplot as plt\n",
    "sns.barplot(x=list(model_vs_err2.keys()), y=list(model_vs_err2.values()))\n",
    "plt.xticks(rotation= 90)\n",
    "plt.xlabel('Models')\n",
    "plt.ylabel('Accuracy Score')\n",
    "plt.title('Models vs Accuracy Score')\n",
    "plt.show()"
   ]
  },
  {
   "cell_type": "markdown",
   "metadata": {},
   "source": [
    "# 3.Stratified Holdout"
   ]
  },
  {
   "cell_type": "code",
   "execution_count": 21,
   "metadata": {},
   "outputs": [],
   "source": [
    "#split the dataset into train and test\n",
    "X_train, X_test, Y_train, Y_test = train_test_split(twoD_X, twoD_Y, test_size=0.2, random_state=42, stratify = twoD_Y)\n",
    "X_train_c, X_test_c, Y_train_c, Y_test_c = train_test_split(X_train, Y_train, test_size=0.2, random_state=42)"
   ]
  },
  {
   "cell_type": "code",
   "execution_count": 22,
   "metadata": {},
   "outputs": [
    {
     "name": "stdout",
     "output_type": "stream",
     "text": [
      "accuracy score:  0.8707865168539326\n"
     ]
    }
   ],
   "source": [
    "#fine tuned 3rd iteration has least error\n",
    "from sklearn import svm\n",
    "#kernel = 'linear'\n",
    "clf_svm = svm.SVC(kernel='linear', gamma=1)\n",
    "clf_svm.fit(X_train_c, Y_train_c)\n",
    "Y_pred = clf_svm.predict(X_test_c)\n",
    "print(\"accuracy score: \", metrics.accuracy_score(Y_test_c, Y_pred))"
   ]
  },
  {
   "cell_type": "code",
   "execution_count": 23,
   "metadata": {},
   "outputs": [
    {
     "name": "stdout",
     "output_type": "stream",
     "text": [
      "accuracy score:  0.9438202247191011\n"
     ]
    }
   ],
   "source": [
    "#fine tuned 9th iteration has least error\n",
    "#Random forest classification model\n",
    "#max depth = 20\n",
    "from sklearn.ensemble import RandomForestClassifier\n",
    "clf_RF = RandomForestClassifier(max_depth=20, random_state=0)\n",
    "clf_RF.fit(X_train_c, Y_train_c)\n",
    "Y_pred = clf_RF.predict(X_test_c)\n",
    "print(\"accuracy score: \", metrics.accuracy_score(Y_test_c, Y_pred))"
   ]
  },
  {
   "cell_type": "code",
   "execution_count": 24,
   "metadata": {},
   "outputs": [
    {
     "name": "stdout",
     "output_type": "stream",
     "text": [
      "0.8707865168539326\n"
     ]
    },
    {
     "name": "stderr",
     "output_type": "stream",
     "text": [
      "/home/rish/.local/lib/python3.6/site-packages/sklearn/linear_model/stochastic_gradient.py:128: FutureWarning: max_iter and tol parameters have been added in <class 'sklearn.linear_model.stochastic_gradient.SGDClassifier'> in 0.19. If both are left unset, they default to max_iter=5 and tol=None. If tol is not None, max_iter defaults to max_iter=1000. From 0.21, default max_iter will be 1000, and default tol will be 1e-3.\n",
      "  \"and default tol will be 1e-3.\" % type(self), FutureWarning)\n"
     ]
    }
   ],
   "source": [
    "#fine tuned 1st iteration has least error\n",
    "#stocastic gradient descent\n",
    "from sklearn.linear_model import SGDClassifier\n",
    "clf_SGD = SGDClassifier(loss=\"log\", penalty=\"l2\")\n",
    "clf_SGD.fit(X_train_c, Y_train_c)\n",
    "Y_pred = clf_SGD.predict(X_test_c)\n",
    "print(metrics.accuracy_score(Y_test_c, Y_pred))"
   ]
  },
  {
   "cell_type": "code",
   "execution_count": 25,
   "metadata": {},
   "outputs": [
    {
     "name": "stdout",
     "output_type": "stream",
     "text": [
      "0.9176029962546817\n"
     ]
    }
   ],
   "source": [
    "#fine tuned 9th iteration has least error\n",
    "#decision tree classifier\n",
    "from sklearn import tree\n",
    "clf_DT = tree.DecisionTreeClassifier()\n",
    "clf_DT.fit(X_train_c, Y_train_c)\n",
    "Y_pred = clf_DT.predict(X_test_c)\n",
    "print(metrics.accuracy_score(Y_test_c, Y_pred))"
   ]
  },
  {
   "cell_type": "code",
   "execution_count": 26,
   "metadata": {},
   "outputs": [
    {
     "name": "stdout",
     "output_type": "stream",
     "text": [
      "0.8820224719101124\n"
     ]
    }
   ],
   "source": [
    "#fine tuned 10th iteration has least error\n",
    "#logistic regressor 2-class classifier\n",
    "logreg = linear_model.LogisticRegression()\n",
    "logreg.fit(X_train_c, Y_train_c)\n",
    "Y_pred = logreg.predict(X_test_c)\n",
    "print(metrics.accuracy_score(Y_test_c, Y_pred))"
   ]
  },
  {
   "cell_type": "code",
   "execution_count": 27,
   "metadata": {},
   "outputs": [
    {
     "name": "stdout",
     "output_type": "stream",
     "text": [
      "{'LogisticRegression': 0.8620689655172413, 'DecisionTreeClassifier': 0.896551724137931, 'SGD': 0.8545727136431784, 'RandomForestClassifier': 0.9160419790104948, 'SupportVectorMachine': 0.856071964017991}\n"
     ]
    }
   ],
   "source": [
    "model_vs_err3 = {}\n",
    "model_vs_err3.update({\"LogisticRegression\" : metrics.accuracy_score(Y_test, logreg.predict(X_test))})\n",
    "model_vs_err3.update({\"DecisionTreeClassifier\" : metrics.accuracy_score(Y_test, clf_DT.predict(X_test))})\n",
    "model_vs_err3.update({\"SGD\" : metrics.accuracy_score(Y_test, clf_SGD.predict(X_test))})\n",
    "model_vs_err3.update({\"RandomForestClassifier\" : metrics.accuracy_score(Y_test, clf_RF.predict(X_test))})\n",
    "model_vs_err3.update({\"SupportVectorMachine\" : metrics.accuracy_score(Y_test, clf_svm.predict(X_test))})\n",
    "print(model_vs_err3)"
   ]
  },
  {
   "cell_type": "code",
   "execution_count": 28,
   "metadata": {},
   "outputs": [
    {
     "data": {
      "image/png": "[encoded data removed]",
      "text/plain": [
       "<Figure size 432x288 with 1 Axes>"
      ]
     },
     "metadata": {},
     "output_type": "display_data"
    }
   ],
   "source": [
    "import seaborn as sns\n",
    "import matplotlib.pyplot as plt\n",
    "sns.barplot(x=list(model_vs_err3.keys()), y=list(model_vs_err3.values()))\n",
    "plt.xticks(rotation= 90)\n",
    "plt.xlabel('Models')\n",
    "plt.ylabel('Accuracy Score')\n",
    "plt.title('Models vs Accuracy Score')\n",
    "plt.show()"
   ]
  },
  {
   "cell_type": "markdown",
   "metadata": {},
   "source": [
    "# Bootstrap"
   ]
  },
  {
   "cell_type": "code",
   "execution_count": 29,
   "metadata": {},
   "outputs": [],
   "source": [
    "#split the dataset into train and test\n",
    "X_train, X_test, Y_train, Y_test = train_test_split(twoD_X, twoD_Y, test_size=0.33, random_state=42)"
   ]
  },
  {
   "cell_type": "code",
   "execution_count": 30,
   "metadata": {},
   "outputs": [],
   "source": [
    "from sklearn.utils import resample\n",
    "X_train_boot=[]\n",
    "Y_train_boot=[]\n",
    "for i in range (1,11):\n",
    "    X_train_boot.append( resample(X_train,replace=True,random_state=i ))\n",
    "    Y_train_boot.append(resample(Y_train,replace=True,random_state=i ))  "
   ]
  },
  {
   "cell_type": "code",
   "execution_count": 31,
   "metadata": {},
   "outputs": [
    {
     "name": "stdout",
     "output_type": "stream",
     "text": [
      "accuracy score:  0.8572727272727273\n",
      "accuracy score:  0.8554545454545455\n",
      "accuracy score:  0.8645454545454545\n",
      "accuracy score:  0.8572727272727273\n",
      "accuracy score:  0.8563636363636363\n",
      "accuracy score:  0.8563636363636363\n",
      "accuracy score:  0.8563636363636363\n",
      "accuracy score:  0.8554545454545455\n",
      "accuracy score:  0.8618181818181818\n",
      "accuracy score:  0.860909090909091\n"
     ]
    }
   ],
   "source": [
    "#fine tuned 3rd iteration has least error\n",
    "from sklearn import svm\n",
    "#kernel = 'linear'\n",
    "clf_svm = svm.SVC(kernel='linear', gamma=1)\n",
    "for i in range (0,10):\n",
    "    clf_svm.fit(X_train_boot[i], Y_train_boot[i])\n",
    "    Y_pred = clf_svm.predict(X_test)\n",
    "    print(\"accuracy score: \", metrics.accuracy_score(Y_test, Y_pred))"
   ]
  },
  {
   "cell_type": "code",
   "execution_count": 32,
   "metadata": {},
   "outputs": [
    {
     "name": "stdout",
     "output_type": "stream",
     "text": [
      "accuracy score:  0.9309090909090909\n",
      "accuracy score:  0.9236363636363636\n",
      "accuracy score:  0.9309090909090909\n",
      "accuracy score:  0.9309090909090909\n",
      "accuracy score:  0.9272727272727272\n",
      "accuracy score:  0.9318181818181818\n",
      "accuracy score:  0.9354545454545454\n",
      "accuracy score:  0.9209090909090909\n",
      "accuracy score:  0.93\n",
      "accuracy score:  0.9427272727272727\n"
     ]
    },
    {
     "data": {
      "text/plain": [
       "RandomForestClassifier(bootstrap=True, class_weight=None, criterion='gini',\n",
       "            max_depth=20, max_features='auto', max_leaf_nodes=None,\n",
       "            min_impurity_decrease=0.0, min_impurity_split=None,\n",
       "            min_samples_leaf=1, min_samples_split=2,\n",
       "            min_weight_fraction_leaf=0.0, n_estimators=10, n_jobs=1,\n",
       "            oob_score=False, random_state=0, verbose=0, warm_start=False)"
      ]
     },
     "execution_count": 32,
     "metadata": {},
     "output_type": "execute_result"
    }
   ],
   "source": [
    "#fine tuned 9th iteration has least error\n",
    "#Random forest classification model\n",
    "#max depth = 20\n",
    "from sklearn.ensemble import RandomForestClassifier\n",
    "clf_RF = RandomForestClassifier(max_depth=20, random_state=0)\n",
    "for i in range (0,10):\n",
    "    clf_RF.fit(X_train_boot[i], Y_train_boot[i])\n",
    "    Y_pred = clf_RF.predict(X_test)\n",
    "    print(\"accuracy score: \", metrics.accuracy_score(Y_test, Y_pred))\n",
    "clf_RF.fit(X_train_boot[6], Y_train_boot[6])\n"
   ]
  },
  {
   "cell_type": "code",
   "execution_count": 33,
   "metadata": {},
   "outputs": [
    {
     "name": "stdout",
     "output_type": "stream",
     "text": [
      "0.8545454545454545\n",
      "0.8545454545454545\n",
      "0.8563636363636363\n",
      "0.6581818181818182\n",
      "0.8681818181818182\n",
      "0.4354545454545454\n",
      "0.8545454545454545\n",
      "0.8545454545454545\n",
      "0.7036363636363636\n",
      "0.8545454545454545\n"
     ]
    },
    {
     "name": "stderr",
     "output_type": "stream",
     "text": [
      "/home/rish/.local/lib/python3.6/site-packages/sklearn/linear_model/stochastic_gradient.py:128: FutureWarning: max_iter and tol parameters have been added in <class 'sklearn.linear_model.stochastic_gradient.SGDClassifier'> in 0.19. If both are left unset, they default to max_iter=5 and tol=None. If tol is not None, max_iter defaults to max_iter=1000. From 0.21, default max_iter will be 1000, and default tol will be 1e-3.\n",
      "  \"and default tol will be 1e-3.\" % type(self), FutureWarning)\n"
     ]
    },
    {
     "data": {
      "text/plain": [
       "SGDClassifier(alpha=0.0001, average=False, class_weight=None, epsilon=0.1,\n",
       "       eta0=0.0, fit_intercept=True, l1_ratio=0.15,\n",
       "       learning_rate='optimal', loss='log', max_iter=None, n_iter=None,\n",
       "       n_jobs=1, penalty='l2', power_t=0.5, random_state=None,\n",
       "       shuffle=True, tol=None, verbose=0, warm_start=False)"
      ]
     },
     "execution_count": 33,
     "metadata": {},
     "output_type": "execute_result"
    }
   ],
   "source": [
    "#fine tuned 1st iteration has least error\n",
    "#stocastic gradient descent\n",
    "from sklearn.linear_model import SGDClassifier\n",
    "clf_SGD = SGDClassifier(loss=\"log\", penalty=\"l2\")\n",
    "for i in range (0,10):\n",
    "    clf_SGD.fit(X_train_boot[i], Y_train_boot[i])\n",
    "    Y_pred = clf_SGD.predict(X_test)\n",
    "    print(metrics.accuracy_score(Y_test, Y_pred))\n",
    "clf_SGD.fit(X_train_boot[3], Y_train_boot[3])\n"
   ]
  },
  {
   "cell_type": "code",
   "execution_count": 34,
   "metadata": {},
   "outputs": [
    {
     "name": "stdout",
     "output_type": "stream",
     "text": [
      "0.9154545454545454\n",
      "0.91\n",
      "0.9072727272727272\n",
      "0.8963636363636364\n",
      "0.8972727272727272\n",
      "0.92\n",
      "0.899090909090909\n",
      "0.9145454545454546\n",
      "0.9054545454545454\n",
      "0.9136363636363637\n"
     ]
    },
    {
     "data": {
      "text/plain": [
       "DecisionTreeClassifier(class_weight=None, criterion='gini', max_depth=None,\n",
       "            max_features=None, max_leaf_nodes=None,\n",
       "            min_impurity_decrease=0.0, min_impurity_split=None,\n",
       "            min_samples_leaf=1, min_samples_split=2,\n",
       "            min_weight_fraction_leaf=0.0, presort=False, random_state=None,\n",
       "            splitter='best')"
      ]
     },
     "execution_count": 34,
     "metadata": {},
     "output_type": "execute_result"
    }
   ],
   "source": [
    "#fine tuned 9th iteration has least error\n",
    "#decision tree classifier\n",
    "from sklearn import tree\n",
    "clf_DT = tree.DecisionTreeClassifier()\n",
    "for i in range (0,10):\n",
    "    clf_DT.fit(X_train_boot[i], Y_train_boot[i])\n",
    "    Y_pred = clf_DT.predict(X_test)\n",
    "    print(metrics.accuracy_score(Y_test, Y_pred))\n",
    "clf_DT.fit(X_train_boot[9], Y_train_boot[9])\n"
   ]
  },
  {
   "cell_type": "code",
   "execution_count": 35,
   "metadata": {},
   "outputs": [
    {
     "name": "stdout",
     "output_type": "stream",
     "text": [
      "0.8554545454545455\n",
      "0.8627272727272727\n",
      "0.8618181818181818\n",
      "0.8645454545454545\n",
      "0.8654545454545455\n",
      "0.8663636363636363\n",
      "0.8654545454545455\n",
      "0.860909090909091\n",
      "0.8636363636363636\n",
      "0.8618181818181818\n"
     ]
    },
    {
     "data": {
      "text/plain": [
       "LogisticRegression(C=1.0, class_weight=None, dual=False, fit_intercept=True,\n",
       "          intercept_scaling=1, max_iter=100, multi_class='ovr', n_jobs=1,\n",
       "          penalty='l2', random_state=None, solver='liblinear', tol=0.0001,\n",
       "          verbose=0, warm_start=False)"
      ]
     },
     "execution_count": 35,
     "metadata": {},
     "output_type": "execute_result"
    }
   ],
   "source": [
    "#fine tuned 10th iteration has least error\n",
    "#logistic regressor 2-class classifier\n",
    "logreg = linear_model.LogisticRegression()\n",
    "for i in range (0,10):\n",
    "    logreg.fit(X_train_boot[i], Y_train_boot[i])\n",
    "    Y_pred = logreg.predict(X_test)\n",
    "    print(metrics.accuracy_score(Y_test, Y_pred))\n",
    "logreg.fit(X_train_boot[4], Y_train_boot[4])\n"
   ]
  },
  {
   "cell_type": "code",
   "execution_count": 36,
   "metadata": {},
   "outputs": [
    {
     "name": "stdout",
     "output_type": "stream",
     "text": [
      "{'LogisticRegression': 0.8654545454545455, 'DecisionTreeClassifier': 0.9145454545454546, 'SGD': 0.8563636363636363, 'RandomForestClassifier': 0.9354545454545454, 'SupportVectorMachine': 0.860909090909091}\n"
     ]
    }
   ],
   "source": [
    "model_vs_err4 = {}\n",
    "model_vs_err4.update({\"LogisticRegression\" : metrics.accuracy_score(Y_test, logreg.predict(X_test))})\n",
    "model_vs_err4.update({\"DecisionTreeClassifier\" : metrics.accuracy_score(Y_test, clf_DT.predict(X_test))})\n",
    "model_vs_err4.update({\"SGD\" : metrics.accuracy_score(Y_test, clf_SGD.predict(X_test))})\n",
    "model_vs_err4.update({\"RandomForestClassifier\" : metrics.accuracy_score(Y_test, clf_RF.predict(X_test))})\n",
    "model_vs_err4.update({\"SupportVectorMachine\" : metrics.accuracy_score(Y_test, clf_svm.predict(X_test))})\n",
    "print(model_vs_err4)"
   ]
  },
  {
   "cell_type": "code",
   "execution_count": 37,
   "metadata": {},
   "outputs": [
    {
     "data": {
      "image/png": "[encoded data removed]",
      "text/plain": [
       "<Figure size 432x288 with 1 Axes>"
      ]
     },
     "metadata": {},
     "output_type": "display_data"
    }
   ],
   "source": [
    "import seaborn as sns\n",
    "import matplotlib.pyplot as plt\n",
    "sns.barplot(x=list(model_vs_err4.keys()), y=list(model_vs_err4.values()))\n",
    "plt.xticks(rotation= 90)\n",
    "plt.xlabel('Models')\n",
    "plt.ylabel('Accuracy Score')\n",
    "plt.title('Models vs Accuracy Score')\n",
    "plt.show()"
   ]
  },
  {
   "cell_type": "code",
   "execution_count": 38,
   "metadata": {},
   "outputs": [
    {
     "data": {
      "image/png": "[encoded data removed]",
      "text/plain": [
       "<Figure size 432x288 with 1 Axes>"
      ]
     },
     "metadata": {},
     "output_type": "display_data"
    }
   ],
   "source": [
    "# plot\n",
    "plt.plot( model_vs_err1.keys(), model_vs_err1.values(), marker='.', markersize=12, color='blue', label=\"Stratified Kfold\")\n",
    "plt.plot( model_vs_err2.keys(), model_vs_err2.values(), marker='.', markersize=12, color='red', label=\"Holdout Method\")\n",
    "plt.plot( model_vs_err3.keys(), model_vs_err3.values(), marker='.', markersize=12, color='green', label=\"Stratified Holdout\")\n",
    "plt.plot( model_vs_err4.keys(), model_vs_err4.values(), marker='.', markersize=12, color='black', label=\"Bootstraping\")\n",
    "plt.legend()\n",
    "plt.xticks(rotation= 90)\n",
    "plt.title('comparing cross validation methods')\n",
    "plt.xlabel('Models')\n",
    "plt.ylabel('RMSE')\n",
    "plt.show()"
   ]
  },
  {
   "cell_type": "code",
   "execution_count": null,
   "metadata": {},
   "outputs": [],
   "source": []
  }
 ],
 "metadata": {
  "kernelspec": {
   "display_name": "Python 3",
   "language": "python",
   "name": "python3"
  },
  "language_info": {
   "codemirror_mode": {
    "name": "ipython",
    "version": 3
   },
   "file_extension": ".py",
   "mimetype": "text/x-python",
   "name": "python",
   "nbconvert_exporter": "python",
   "pygments_lexer": "ipython3",
   "version": "3.6.5"
  }
 },
 "nbformat": 4,
 "nbformat_minor": 2
}
